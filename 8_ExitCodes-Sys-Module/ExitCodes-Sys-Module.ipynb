{
 "cells": [
  {
   "cell_type": "code",
   "execution_count": null,
   "metadata": {},
   "outputs": [],
   "source": [
    "# here is the actual script\n",
    "\n",
    "import argparse \n",
    "\n",
    "# Build the parser\n",
    "parser = argparse.ArgumentParser(description='for learning the argparse module')        # we can add a description for this script\n",
    "parser.add_argument('filename', help='this arg for the filename to read')  # If -- is not specified then its a positional argument\n",
    "parser.add_argument('--limit', '-l', type=int, help='the number of lines to read') # If -- is specified then its an optional argument\n",
    "parser.add_argument('--version', '-v', action='version', version='%(prog)s 1.0')\n",
    "\n",
    "# Parse the arguments\n",
    "args = parser.parse_args()\n",
    "\n",
    "# Carry out the scripts (Read the file, reverse the contents and print)\n",
    "\n",
    "try:\n",
    "    f = open(args.filename)\n",
    "    limit = args.limit\n",
    "except FileNotFoundError as err:\n",
    "    print(f\"Error: {err}\")\n",
    "else:\n",
    "    with f:   # getting the filename from filename argument and open the file\n",
    "        lines = f.readlines()        # reading all lines in the file\n",
    "        lines.reverse()              # reversing the order of the line contents such as last line becoming first line \n",
    "        if args.limit:                  # If --limit argument is given then we are only reversing those lines\n",
    "            lines = lines[:args.limit]  \n",
    "        for line in lines:\n",
    "            print(line.strip()[::-1])   # reversing the characters in each line and printing"
   ]
  },
  {
   "cell_type": "markdown",
   "metadata": {},
   "source": [
    "Note: \n",
    "    In the above script if there is an exception then the exit code will still return as 0 because we are capturing the exception\n",
    "    So we need to explicitely change the exit codes during the failure occurences in the program"
   ]
  },
  {
   "cell_type": "code",
   "execution_count": null,
   "metadata": {},
   "outputs": [],
   "source": [
    "import argparse \n",
    "import sys          # for the custom exit codes \n",
    "\n",
    "# Build the parser\n",
    "parser = argparse.ArgumentParser(description='for learning the argparse module')        # we can add a description for this script\n",
    "parser.add_argument('filename', help='this arg for the filename to read')  # If -- is not specified then its a positional argument\n",
    "parser.add_argument('--limit', '-l', type=int, help='the number of lines to read') # If -- is specified then its an optional argument\n",
    "parser.add_argument('--version', '-v', action='version', version='%(prog)s 1.0')\n",
    "\n",
    "# Parse the arguments\n",
    "args = parser.parse_args()\n",
    "\n",
    "# Carry out the scripts (Read the file, reverse the contents and print)\n",
    "\n",
    "try:\n",
    "    f = open(args.filename)\n",
    "    limit = args.limit\n",
    "except FileNotFoundError as err:\n",
    "    print(f\"Error: {err}\")\n",
    "    sys.exit(1)   # here it returns the exit code as 1 - since the exception occured\n",
    "else:\n",
    "    with f:   # getting the filename from filename argument and open the file\n",
    "        lines = f.readlines()        # reading all lines in the file\n",
    "        lines.reverse()              # reversing the order of the line contents such as last line becoming first line \n",
    "        if args.limit:                  # If --limit argument is given then we are only reversing those lines\n",
    "            lines = lines[:args.limit]  \n",
    "        for line in lines:\n",
    "            print(line.strip()[::-1])   # reversing the characters in each line and printing\n",
    "            "
   ]
  },
  {
   "cell_type": "markdown",
   "metadata": {},
   "source": [
    "Output:\n",
    "\n",
    "=> python my-argparse.py fakefile\n",
    "Error: [Errno 2] No such file or directory: 'fakefile'\n",
    "\n",
    "=>  echo $?\n",
    "1"
   ]
  },
  {
   "cell_type": "code",
   "execution_count": null,
   "metadata": {},
   "outputs": [],
   "source": [
    "# we can specify the actual traceback error codes , for eg: we can specify error code 2 in sys.exit(2)\n",
    "\n",
    "import argparse \n",
    "import sys          # for the custom exit codes \n",
    "\n",
    "# Build the parser\n",
    "parser = argparse.ArgumentParser(description='for learning the argparse module')        # we can add a description for this script\n",
    "parser.add_argument('filename', help='this arg for the filename to read')  # If -- is not specified then its a positional argument\n",
    "parser.add_argument('--limit', '-l', type=int, help='the number of lines to read') # If -- is specified then its an optional argument\n",
    "parser.add_argument('--version', '-v', action='version', version='%(prog)s 1.0')\n",
    "\n",
    "# Parse the arguments\n",
    "args = parser.parse_args()\n",
    "\n",
    "# Carry out the scripts (Read the file, reverse the contents and print)\n",
    "\n",
    "try:\n",
    "    f = open(args.filename)\n",
    "    limit = args.limit\n",
    "except FileNotFoundError as err:\n",
    "    print(f\"Error: {err}\")\n",
    "    sys.exit(2)   # here it returns the exit code as 1 - since the exception occured\n",
    "else:\n",
    "    with f:   # getting the filename from filename argument and open the file\n",
    "        lines = f.readlines()        # reading all lines in the file\n",
    "        lines.reverse()              # reversing the order of the line contents such as last line becoming first line \n",
    "        if args.limit:                  # If --limit argument is given then we are only reversing those lines\n",
    "            lines = lines[:args.limit]  \n",
    "        for line in lines:\n",
    "            print(line.strip()[::-1])   # reversing the characters in each line and printing\n",
    "      "
   ]
  },
  {
   "cell_type": "markdown",
   "metadata": {},
   "source": [
    "Output:\n",
    "\n",
    "=> python my-argparse.py fakefile\n",
    "Error: [Errno 2] No such file or directory: 'fakefile'\n",
    "\n",
    "=>  echo $?\n",
    "2"
   ]
  },
  {
   "cell_type": "code",
   "execution_count": null,
   "metadata": {},
   "outputs": [],
   "source": []
  }
 ],
 "metadata": {
  "kernelspec": {
   "display_name": "Python 3",
   "language": "python",
   "name": "python3"
  },
  "language_info": {
   "codemirror_mode": {
    "name": "ipython",
    "version": 3
   },
   "file_extension": ".py",
   "mimetype": "text/x-python",
   "name": "python",
   "nbconvert_exporter": "python",
   "pygments_lexer": "ipython3",
   "version": "3.8.5"
  }
 },
 "nbformat": 4,
 "nbformat_minor": 4
}
