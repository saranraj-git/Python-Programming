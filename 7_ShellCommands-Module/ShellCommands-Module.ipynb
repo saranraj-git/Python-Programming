{
 "cells": [
  {
   "cell_type": "markdown",
   "metadata": {},
   "source": [
    "Reference:\n",
    "https://docs.python.org/3/library/subprocess.html"
   ]
  },
  {
   "cell_type": "code",
   "execution_count": null,
   "metadata": {},
   "outputs": [],
   "source": [
    "import subprocess   # package for executing the shell commands\n",
    "\n",
    "proc = subprocess.run([\"ls\", \"-l\"])    # run([]) is the new method in python 3 for executing shell commands\n",
    "print(proc)\n",
    "\n",
    "\"\"\"\n",
    ">>> import subprocess\n",
    ">>> proc = subprocess.run([\"ls\",\"-ltr\"])\n",
    "total 20\n",
    "-rw-r--r-- 1 ec2-user ec2-user  569 Nov  4  2020 README.md\n",
    "-rw-r--r-- 1 ec2-user ec2-user  137 Jun 28 08:39 prereq.sh\n",
    "-rw-rw-r-- 1 ec2-user ec2-user  493 Jun 28 09:30 boto3scriptoutput.txt\n",
    "-rw-r--r-- 1 ec2-user ec2-user 1442 Jun 28 09:46 main.py\n",
    "-rw-r--r-- 1 ec2-user ec2-user  474 Jun 28 10:12 s3.py\n",
    "\n",
    ">>> proc\n",
    "CompletedProcess(args=['ls', '-ltr'], returncode=0)\n",
    ">>> proc.returncode\n",
    "0\n",
    ">>> proc.args\n",
    "['ls', '-ltr']\n",
    "\n",
    "\"\"\""
   ]
  },
  {
   "cell_type": "code",
   "execution_count": null,
   "metadata": {},
   "outputs": [],
   "source": [
    "# In the above command it didn't save any output or errors\n",
    "# To capture stdout and stderr then we need to pass PIPE i.e  stdout=subprocess.PIPE, stderr=subprocess.PIPE\n",
    "\n",
    ">>> proc = subprocess.run(['ls', '-l'], stdout=subprocess.PIPE, stderr=subprocess.PIPE)\n",
    ">>> proc\n",
    "CompletedProcess(args=['ls', '-l'], returncode=0, stdout=b'total 20\\n-rw-rw-r-- 1 ec2-user ec2-user  493 Jun 28 09:30 boto3scriptoutput.txt\\n-rw-r--r-- 1 ec2-user ec2-user 1442 Jun 28 09:46 main.py\\n-rw-r--r-- 1 ec2-user ec2-user  137 Jun 28 08:39 prereq.sh\\n-rw-r--r-- 1 ec2-user ec2-user  569 Nov  4  2020 README.md\\n-rw-r--r-- 1 ec2-user ec2-user  474 Jun 28 10:12 s3.py\\n', stderr=b'')\n",
    ">>> proc.stdout\n",
    "b'total 20\\n-rw-rw-r-- 1 ec2-user ec2-user  493 Jun 28 09:30 boto3scriptoutput.txt\\n-rw-r--r-- 1 ec2-user ec2-user 1442 Jun 28 09:46 main.py\\n-rw-r--r-- 1 ec2-user ec2-user  137 Jun 28 08:39 prereq.sh\\n-rw-r--r-- 1 ec2-user ec2-user  569 Nov  4  2020 README.md\\n-rw-r--r-- 1 ec2-user ec2-user  474 Jun 28 10:12 s3.py\\n'\n",
    ">>> proc.stderr\n",
    "b''\n",
    ">>> print(proc.stdout)\n",
    "b'total 20\\n-rw-rw-r-- 1 ec2-user ec2-user  493 Jun 28 09:30 boto3scriptoutput.txt\\n-rw-r--r-- 1 ec2-user ec2-user 1442 Jun 28 09:46 main.py\\n-rw-r--r-- 1 ec2-user ec2-user  137 Jun 28 08:39 prereq.sh\\n-rw-r--r-- 1 ec2-user ec2-user  569 Nov  4  2020 README.md\\n-rw-r--r-- 1 ec2-user ec2-user  474 Jun 28 10:12 s3.py\\n'"
   ]
  },
  {
   "cell_type": "code",
   "execution_count": null,
   "metadata": {},
   "outputs": [],
   "source": [
    "# In the previous output its printing in binary format b''  so decode the binary output into string then we need to pass decode=True as shown below\n",
    "\n",
    ">>> print(proc.stdout.decode())\n",
    "total 20\n",
    "-rw-rw-r-- 1 ec2-user ec2-user  493 Jun 28 09:30 boto3scriptoutput.txt\n",
    "-rw-r--r-- 1 ec2-user ec2-user 1442 Jun 28 09:46 main.py\n",
    "-rw-r--r-- 1 ec2-user ec2-user  137 Jun 28 08:39 prereq.sh\n",
    "-rw-r--r-- 1 ec2-user ec2-user  569 Nov  4  2020 README.md\n",
    "-rw-r--r-- 1 ec2-user ec2-user  474 Jun 28 10:12 s3.py"
   ]
  },
  {
   "cell_type": "code",
   "execution_count": null,
   "metadata": {},
   "outputs": [],
   "source": [
    "# Capturing errors and error codes \n",
    "\n",
    ">>> new_proc = subprocess.run(['cat','fake.txt'])\n",
    "cat: fake.txt: No such file or directory\n",
    ">>> new_proc\n",
    "CompletedProcess(args=['cat', 'fake.txt'], returncode=1)\n",
    ">>> if new_proc.returncode > 0:\n",
    "        print(\"some error occured\")\n",
    "        "
   ]
  },
  {
   "cell_type": "code",
   "execution_count": null,
   "metadata": {},
   "outputs": [],
   "source": [
    "# In the above output it didn't throw the traceback error explicitely hence we need to pass check=True to get the complete traceback\n",
    "\n",
    ">>> new_proc = subprocess.run(['cat','fake.txt'], check=True)\n",
    "cat: fake.txt: No such file or directory\n",
    "Traceback (most recent call last):\n",
    "  File \"<stdin>\", line 1, in <module>\n",
    "  File \"/usr/lib64/python3.7/subprocess.py\", line 512, in run\n",
    "    output=stdout, stderr=stderr)\n",
    "subprocess.CalledProcessError: Command '['cat', 'fake.txt']' returned non-zero exit status 1.\n",
    ">>> "
   ]
  },
  {
   "cell_type": "code",
   "execution_count": null,
   "metadata": {},
   "outputs": [],
   "source": [
    "# It is important to make use of  subprocess.check_output() in the documentation which simplifies all the above steps discussed\n",
    "\n"
   ]
  },
  {
   "cell_type": "code",
   "execution_count": null,
   "metadata": {},
   "outputs": [],
   "source": []
  },
  {
   "cell_type": "code",
   "execution_count": null,
   "metadata": {},
   "outputs": [],
   "source": []
  }
 ],
 "metadata": {
  "kernelspec": {
   "display_name": "Python 3",
   "language": "python",
   "name": "python3"
  },
  "language_info": {
   "codemirror_mode": {
    "name": "ipython",
    "version": 3
   },
   "file_extension": ".py",
   "mimetype": "text/x-python",
   "name": "python",
   "nbconvert_exporter": "python",
   "pygments_lexer": "ipython3",
   "version": "3.8.5"
  }
 },
 "nbformat": 4,
 "nbformat_minor": 4
}
