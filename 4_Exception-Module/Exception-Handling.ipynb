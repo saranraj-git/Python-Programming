{
 "cells": [
  {
   "cell_type": "markdown",
   "metadata": {},
   "source": [
    "Reference:\n",
    "https://www.youtube.com/watch?v=NIWwJbo-9_8&list=PL-osiE80TeTt2d9bfVyTiXJA-UTHn6WwU&index=31\n",
    "\n",
    "Code reference:\n",
    "https://github.com/CoreyMSchafer/code_snippets\n",
    "\n",
    "https://github.com/CoreyMSchafer/code_snippets/tree/master/Exceptions"
   ]
  },
  {
   "cell_type": "code",
   "execution_count": 1,
   "metadata": {},
   "outputs": [
    {
     "ename": "FileNotFoundError",
     "evalue": "[Errno 2] No such file or directory: 'testfile.txt'",
     "output_type": "error",
     "traceback": [
      "\u001b[1;31m---------------------------------------------------------------------------\u001b[0m",
      "\u001b[1;31mFileNotFoundError\u001b[0m                         Traceback (most recent call last)",
      "\u001b[1;32m<ipython-input-1-72457cda5c27>\u001b[0m in \u001b[0;36m<module>\u001b[1;34m\u001b[0m\n\u001b[1;32m----> 1\u001b[1;33m \u001b[0mf\u001b[0m \u001b[1;33m=\u001b[0m \u001b[0mopen\u001b[0m\u001b[1;33m(\u001b[0m\u001b[1;34m'testfile.txt'\u001b[0m\u001b[1;33m)\u001b[0m\u001b[1;33m\u001b[0m\u001b[1;33m\u001b[0m\u001b[0m\n\u001b[0m\u001b[0;32m      2\u001b[0m \u001b[1;33m\u001b[0m\u001b[0m\n\u001b[0;32m      3\u001b[0m \u001b[1;32mtry\u001b[0m\u001b[1;33m:\u001b[0m\u001b[1;33m\u001b[0m\u001b[1;33m\u001b[0m\u001b[0m\n\u001b[0;32m      4\u001b[0m     \u001b[1;32mpass\u001b[0m\u001b[1;33m\u001b[0m\u001b[1;33m\u001b[0m\u001b[0m\n\u001b[0;32m      5\u001b[0m \u001b[1;32mexcept\u001b[0m \u001b[0mException\u001b[0m\u001b[1;33m:\u001b[0m\u001b[1;33m\u001b[0m\u001b[1;33m\u001b[0m\u001b[0m\n",
      "\u001b[1;31mFileNotFoundError\u001b[0m: [Errno 2] No such file or directory: 'testfile.txt'"
     ]
    }
   ],
   "source": [
    "# Getting run time errors is inevitable however it needs to be handled appropriately to help other programmers who uses this code\n",
    "# Hence we are going with Exception Handling\n",
    "\n",
    "f = open('testfile.txt')\n",
    "\n",
    "try:\n",
    "    pass\n",
    "except Exception:\n",
    "    pass"
   ]
  },
  {
   "cell_type": "code",
   "execution_count": 2,
   "metadata": {},
   "outputs": [
    {
     "name": "stdout",
     "output_type": "stream",
     "text": [
      "This file doesn not exist\n"
     ]
    }
   ],
   "source": [
    "# Sample file not found exception can be handled as follows:\n",
    "\n",
    "try:\n",
    "    f = open('testfile.txt')\n",
    "except Exception:\n",
    "    print('This file doesn not exist')"
   ]
  },
  {
   "cell_type": "code",
   "execution_count": 3,
   "metadata": {},
   "outputs": [
    {
     "name": "stdout",
     "output_type": "stream",
     "text": [
      "This file doesn not exist\n"
     ]
    }
   ],
   "source": [
    "# Generic Exception caught will not capture all tracebacks\n",
    "try:\n",
    "    f = open('testfile.txt')\n",
    "    var = somevariable\n",
    "except Exception:\n",
    "    print('This file doesn not exist')"
   ]
  },
  {
   "cell_type": "code",
   "execution_count": 4,
   "metadata": {},
   "outputs": [
    {
     "name": "stdout",
     "output_type": "stream",
     "text": [
      "This file doesn not exist\n"
     ]
    }
   ],
   "source": [
    "# Hence go with the specific exception blocks\n",
    "\n",
    "try:\n",
    "    f = open('testfile.txt')\n",
    "    var = somevariable\n",
    "except FileNotFoundError:\n",
    "    print('This file doesn not exist')\n",
    "    \n",
    "# In Jupyter its not printing properly however in python REPL terminal its working fine along with NameError: name 'somevariable' is not defined"
   ]
  },
  {
   "cell_type": "code",
   "execution_count": 5,
   "metadata": {},
   "outputs": [
    {
     "name": "stdout",
     "output_type": "stream",
     "text": [
      "This file doesn not exist\n"
     ]
    }
   ],
   "source": [
    "# If there are multiple exception then it checks for the exception from the top to bottom\n",
    "\n",
    "try:\n",
    "    f = open('testfile.txt')\n",
    "    var = somevariable\n",
    "except FileNotFoundError:\n",
    "    print('This file doesn not exist')\n",
    "except Exception:\n",
    "    print(\"some general exception\")"
   ]
  },
  {
   "cell_type": "code",
   "execution_count": 7,
   "metadata": {},
   "outputs": [
    {
     "name": "stdout",
     "output_type": "stream",
     "text": [
      "[Errno 2] No such file or directory: 'testfile.txt'\n"
     ]
    }
   ],
   "source": [
    "# we can also print like this\n",
    "\n",
    "try:\n",
    "    f = open('testfile.txt')\n",
    "    var = some_variable\n",
    "except FileNotFoundError as f:\n",
    "    print(f)\n",
    "except Exception as e:\n",
    "    print(e)"
   ]
  },
  {
   "cell_type": "code",
   "execution_count": null,
   "metadata": {},
   "outputs": [],
   "source": [
    "# We can make use of else block in exception handling\n",
    "# Purpose of else block is that if there are no exception/s caught as we expect then we can execute our actual next statements in else block\n",
    "# If there are no problems with file opening then the next step of reading the file in the else block \n",
    "\n",
    "try:\n",
    "    f = open('testfile.txt')\n",
    "    var = some_variable\n",
    "except FileNotFoundError as f:\n",
    "    print(f)\n",
    "except Exception as e:\n",
    "    print(e)\n",
    "else:\n",
    "    print(f.read())\n",
    "    f.close()"
   ]
  },
  {
   "cell_type": "code",
   "execution_count": null,
   "metadata": {},
   "outputs": [],
   "source": [
    "# This code also works if the file is avail however as the best practice its recommended to put the next steps in else block\n",
    "\n",
    "try:\n",
    "    f = open('testfile.txt')\n",
    "    var = some_variable\n",
    "    print(f.read())\n",
    "    f.close()\n",
    "except FileNotFoundError as f:\n",
    "    print(f)\n",
    "except Exception as e:\n",
    "    print(e)\n",
    "else:\n",
    "    pass"
   ]
  },
  {
   "cell_type": "code",
   "execution_count": 8,
   "metadata": {},
   "outputs": [
    {
     "name": "stdout",
     "output_type": "stream",
     "text": [
      "[Errno 2] No such file or directory: 'testfile.txt'\n",
      "executing the finally block anyway\n"
     ]
    }
   ],
   "source": [
    "# else block will only execute if there are no exceptions caught at the top \n",
    "# However Finally clause will always execute at the end, regardless of how many exceptions being caught above\n",
    "# best use case would be working with the database connections and we can place our close connections statement in the finally block \n",
    "\n",
    "try:\n",
    "    f = open('testfile.txt')\n",
    "    var = some_variable\n",
    "except FileNotFoundError as f:\n",
    "    print(f)\n",
    "except Exception as e:\n",
    "    print(e)\n",
    "else:\n",
    "    print(f.read())\n",
    "    f.close()\n",
    "finally:\n",
    "    print(\"executing the finally block anyway\")\n",
    "   "
   ]
  },
  {
   "cell_type": "code",
   "execution_count": 11,
   "metadata": {},
   "outputs": [
    {
     "name": "stdout",
     "output_type": "stream",
     "text": [
      "alert - someone reading virus file\n",
      "executing the finally block anyway\n"
     ]
    }
   ],
   "source": [
    "# User raised exceptions\n",
    "# I have created a file called virus_file.txt and when I try to read it then I'm raising the exception by myself for my reference\n",
    "\n",
    "try:\n",
    "    f = open('virus_file.txt')\n",
    "    if f.name == 'virus_file.txt':\n",
    "        raise exception\n",
    "\n",
    "except FileNotFoundError as f:\n",
    "    print(f)\n",
    "except Exception as e:\n",
    "    print(\"alert - someone reading virus file\")\n",
    "else:\n",
    "    print(f.read())\n",
    "    f.close()\n",
    "finally:\n",
    "    print(\"executing the finally block anyway\")"
   ]
  },
  {
   "cell_type": "code",
   "execution_count": null,
   "metadata": {},
   "outputs": [],
   "source": []
  }
 ],
 "metadata": {
  "kernelspec": {
   "display_name": "Python 3",
   "language": "python",
   "name": "python3"
  },
  "language_info": {
   "codemirror_mode": {
    "name": "ipython",
    "version": 3
   },
   "file_extension": ".py",
   "mimetype": "text/x-python",
   "name": "python",
   "nbconvert_exporter": "python",
   "pygments_lexer": "ipython3",
   "version": "3.8.5"
  }
 },
 "nbformat": 4,
 "nbformat_minor": 4
}
