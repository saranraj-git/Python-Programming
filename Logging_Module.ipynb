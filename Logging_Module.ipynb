{
 "cells": [
  {
   "cell_type": "markdown",
   "metadata": {},
   "source": [
    "\n",
    "Logging levels in Python\n",
    "\n",
    "DEBUG: Detailed information, typcically of interest only when diagnosing problems\n",
    "\n",
    "INFO: Confirmation that things are working as expected\n",
    "\n",
    "WARNING: An indication that something unexpected happened, \n",
    "or indicative of some problem in the near future eg: Disk space filled but software still working\n",
    "\n",
    "ERROR: Due to serious problem, the software is not able to perform some of the function \n",
    "\n",
    "Critical: Entire program itself not able to run.\n"
   ]
  },
  {
   "cell_type": "code",
   "execution_count": 1,
   "metadata": {},
   "outputs": [
    {
     "name": "stdout",
     "output_type": "stream",
     "text": [
      "Addition of 10 + 5 = 15\n"
     ]
    }
   ],
   "source": [
    "def adding(x,y):\n",
    "    return x + y\n",
    "\n",
    "num1 = 10\n",
    "num2 = 5\n",
    "print('Addition of {} + {} = {}'.format(num1,num2,adding(num1,num2)))"
   ]
  },
  {
   "cell_type": "code",
   "execution_count": 2,
   "metadata": {},
   "outputs": [],
   "source": [
    "# Now we can replace the print with logging module\n",
    "\n",
    "import logging\n",
    "\n",
    "def adding(x,y):\n",
    "    return x + y\n",
    "\n",
    "num1 = 10\n",
    "num2 = 5\n",
    "logging.debug('Addition of {} + {} = {}'.format(num1,num2,adding(num1,num2)))"
   ]
  },
  {
   "cell_type": "markdown",
   "metadata": {},
   "source": [
    "The above code didn't add any log to the console because default runtime logging level in python is warning and higher "
   ]
  },
  {
   "cell_type": "code",
   "execution_count": 4,
   "metadata": {},
   "outputs": [
    {
     "name": "stderr",
     "output_type": "stream",
     "text": [
      "WARNING:root:Addition of 10 + 5 = 15\n"
     ]
    }
   ],
   "source": [
    "#Now lets change to warning\n",
    "import logging\n",
    "\n",
    "def adding(x,y):\n",
    "    return x + y\n",
    "\n",
    "num1 = 10\n",
    "num2 = 5\n",
    "logging.warning('Addition of {} + {} = {}'.format(num1,num2,adding(num1,num2)))"
   ]
  },
  {
   "cell_type": "code",
   "execution_count": 7,
   "metadata": {},
   "outputs": [],
   "source": [
    "#Lets configure Logging in Python\n",
    "# logging.DEBUG resolves to the integer 10 , Info 20, Warn 30, Error 40 and Critical 50\n",
    "# https://docs.python.org/3/library/logging.html#logging-levels\n",
    "\n",
    "import logging\n",
    "\n",
    "logging.basicConfig(level=logging.DEBUG)  # Changing the logging level to DEBUG for this script\n",
    "\n",
    "def adding(x,y):\n",
    "    return x + y\n",
    "\n",
    "num1 = 10\n",
    "num2 = 5\n",
    "logging.debug('Addition of {} + {} = {}'.format(num1,num2,adding(num1,num2)))"
   ]
  },
  {
   "cell_type": "code",
   "execution_count": 8,
   "metadata": {},
   "outputs": [],
   "source": [
    "# To create a log file \n",
    "\n",
    "import logging\n",
    "\n",
    "logging.basicConfig(filename='myscript.log', level=logging.DEBUG)  # Creates myscript.log file and appends the log\n",
    "\n",
    "def adding(x,y):\n",
    "    return x + y\n",
    "\n",
    "num1 = 10\n",
    "num2 = 5\n",
    "logging.debug('Addition of {} + {} = {}'.format(num1,num2,adding(num1,num2)))"
   ]
  },
  {
   "cell_type": "markdown",
   "metadata": {},
   "source": [
    "https://docs.python.org/3/library/logging.html#logrecord-attributes"
   ]
  },
  {
   "cell_type": "code",
   "execution_count": 9,
   "metadata": {},
   "outputs": [],
   "source": [
    "# Lets add Log Record attributes\n",
    "\n",
    "import logging\n",
    "\n",
    "logging.basicConfig(filename='myscript.log', level=logging.DEBUG, \n",
    "                   format='%(asctime)s:%(levelname)s:%(message)s')  # Adding Log format option\n",
    "\n",
    "def adding(x,y):\n",
    "    return x + y\n",
    "\n",
    "num1 = 10\n",
    "num2 = 5\n",
    "logging.debug('Addition of {} + {} = {}'.format(num1,num2,adding(num1,num2)))"
   ]
  },
  {
   "cell_type": "markdown",
   "metadata": {},
   "source": [
    "Advanced Logging\n",
    "\n",
    "- While importing several modules then there may be a different logger being set on that module\n",
    "- However we can create our own logger and configure our own logger as follows"
   ]
  },
  {
   "cell_type": "code",
   "execution_count": 10,
   "metadata": {},
   "outputs": [],
   "source": [
    "# This is File A - addition.py \n",
    "\n",
    "import logging\n",
    "\n",
    "logging.basicConfig(filename='sample.log', level=logging.DEBUG, \n",
    "                   format='%(asctime)s:%(levelname)s:%(message)s')  # Adding Log format option\n",
    "\n",
    "def adding(x,y):\n",
    "    return x + y\n",
    "\n",
    "num1 = 10\n",
    "num2 = 5\n",
    "logging.debug('Addition of {} + {} = {}'.format(num1,num2,adding(num1,num2)))"
   ]
  },
  {
   "cell_type": "markdown",
   "metadata": {},
   "source": [
    "2021-06-27 20:45:33,315:root:Addition of 10 + 5 = 15"
   ]
  },
  {
   "cell_type": "code",
   "execution_count": 11,
   "metadata": {},
   "outputs": [],
   "source": [
    "# This is File B - employee.py\n",
    "\n",
    "import logging\n",
    "\n",
    "logging.basicConfig(filename='employee.log', level=logging.INFO, \n",
    "                   format='%(levelname)s:%(name)s:%(message)s')  # Adding Log format option\n",
    "\n",
    "class Employee:\n",
    "    \n",
    "    def __init__(self, first, last):\n",
    "        self.first = first\n",
    "        self.last = last\n",
    "        \n",
    "        logging.info('Created Employee: {} - {}'.format(self.fullname, self.email))\n",
    "    \n",
    "    @property\n",
    "    def email(self):\n",
    "        return '{}.{}@email.com'.format(self.first, self.last)\n",
    "    \n",
    "    @property\n",
    "    def fullname(self):\n",
    "        return '{} {}'.format(self.first, self.last)\n",
    "\n",
    "emp1 = Employee('Saran', 'Raj')\n",
    "emp2 = Employee('Sudeep', 'Sunthankar')"
   ]
  },
  {
   "cell_type": "markdown",
   "metadata": {},
   "source": [
    "INFO:root:Created Employee: Saran Raj - Saran.Raj@email.com\n",
    "\n",
    "INFO:root:Created Employee: Sudeep Sunthankar - Sudeep.Sunthankar@email.com"
   ]
  },
  {
   "cell_type": "code",
   "execution_count": 14,
   "metadata": {},
   "outputs": [],
   "source": [
    "# Now there are two different loggers and while importing a module then the logger also get imported \n",
    "# however we can configure \n",
    "\n",
    "# 2021-06-27 20:45:33,315:root:Addition of 10 + 5 = 15  ( root indicates logger level - root logger)\n",
    "\n",
    "# Here we are importing employee.py in the addition.py and \n",
    "# when we import the employee.py then the root logger created in employee.py will be used in the current file \n",
    "# Hence the sample.log in the addition.py will not be created, instead it creates only employee.log file as its root logger\n",
    "# This is the reason, that creating root logger is not a recommended approach \n",
    "# because it appends the logs of both addition.py and employee.py in the employee.log \n",
    "\n",
    "\n",
    "import logging\n",
    "import employee\n",
    "\n",
    "\n",
    "logging.basicConfig(filename='sample.log', level=logging.DEBUG, \n",
    "                   format='%(asctime)s:%(levelname)s:%(message)s')  # Adding Log format option\n",
    "\n",
    "def adding(x,y):\n",
    "    return x + y\n",
    "\n",
    "num1 = 10\n",
    "num2 = 5\n",
    "logging.debug('Addition of {} + {} = {}'.format(num1,num2,adding(num1,num2)))"
   ]
  },
  {
   "cell_type": "code",
   "execution_count": 15,
   "metadata": {},
   "outputs": [],
   "source": [
    "# To avoid the above issue, we need to create a seperate logger for each module\n",
    "\n",
    "# Creating a seperate logger in employee.py\n",
    "\n",
    "import logging\n",
    "\n",
    "empLogger = logging.getLogger(__name__) # Creating a logger for employee.py\n",
    "empLogger.setLevel(logging.DEBUG)\n",
    "\n",
    "# Specifying filename and formatter in the basicConfig indicates that its a root logger log file so we are creating our own fileHandler\n",
    "\n",
    "formatter = logging.Formatter('%(levelname)s:%(name)s:%(message)s') # Creating our own custom formatter\n",
    "file_handler = logging.FileHandler('employee.log')  # FileHandler meant for custom log file dedicated to this logger \n",
    "file_handler.setFormatter(formatter)\n",
    "empLogger.addHandler(file_handler)\n",
    "\n",
    "\"\"\"\n",
    "logging.basicConfig(filename='employee.log', level=logging.INFO, \n",
    "                   format='%(levelname)s:%(name)s:%(message)s')  \n",
    "\n",
    "Now this root logger is no longer needed as we created our custom\n",
    "\"\"\"\n",
    "\n",
    "class Employee:\n",
    "    \n",
    "    def __init__(self, first, last):\n",
    "        self.first = first\n",
    "        self.last = last\n",
    "        \n",
    "        empLogger.info('Created Employee: {} - {}'.format(self.fullname, self.email))\n",
    "    \n",
    "    @property\n",
    "    def email(self):\n",
    "        return '{}.{}@email.com'.format(self.first, self.last)\n",
    "    \n",
    "    @property\n",
    "    def fullname(self):\n",
    "        return '{} {}'.format(self.first, self.last)\n",
    "\n",
    "emp1 = Employee('Saran', 'Raj')\n",
    "emp2 = Employee('Sudeep', 'Sunthankar')"
   ]
  },
  {
   "cell_type": "markdown",
   "metadata": {},
   "source": [
    "employee.log contains the following output If we execute the employee.py\n",
    "\n",
    "INFO:__main__:Created Employee: Saran Raj - Saran.Raj@email.com\n",
    "INFO:__main__:Created Employee: Sudeep Sunthankar - Sudeep.Sunthankar@email.com\n",
    "\n",
    "However if employee.py is imported on someother \n",
    "\n",
    "INFO:employee:Created Employee: Saran Raj - Saran.Raj@email.com\n",
    "INFO:employee:Created Employee: Sudeep Sunthankar - Sudeep.Sunthankar@email.com\n"
   ]
  },
  {
   "cell_type": "markdown",
   "metadata": {},
   "source": [
    "addition.log will be created and it contains the following log after importing the above employee.log\n",
    "\n",
    "2021-06-27 20:45:33,315:root:Addition of 10 + 5 = 15\n"
   ]
  },
  {
   "cell_type": "code",
   "execution_count": 1,
   "metadata": {},
   "outputs": [],
   "source": [
    "# Lets create custom logger for the addition.py as well\n",
    "\n",
    "import logging\n",
    "\n",
    "additionLogger = logging.getLogger(__name__) # Creating a logger for addition.py\n",
    "additionLogger.setLevel(logging.DEBUG)\n",
    "# Specifying filename and formatter in the basicConfig indicates that its a root logger log file so we are creating our own fileHandler\n",
    "\n",
    "formatter = logging.Formatter('%(asctime)s:%(levelname)s:%(message)s') # Creating our own custom formatter\n",
    "file_handler = logging.FileHandler('addition.log')  # FileHandler meant for custom log file dedicated to this logger \n",
    "file_handler.setFormatter(formatter)\n",
    "additionLogger.addHandler(file_handler)\n",
    "\n",
    "\"\"\"\n",
    "logging.basicConfig(filename='sample.log', level=logging.DEBUG, \n",
    "                   format='%(asctime)s:%(levelname)s:%(message)s')  # Adding Log format option\n",
    "\"\"\"\n",
    "\n",
    "def adding(x,y):\n",
    "    return x + y\n",
    "\n",
    "num1 = 10\n",
    "num2 = 5\n",
    "additionLogger.debug('Addition of {} + {} = {}'.format(num1,num2,adding(num1,num2)))"
   ]
  },
  {
   "cell_type": "markdown",
   "metadata": {},
   "source": [
    "addition.log would look like the following\n",
    "\n",
    "2021-06-27 20:45:33,315:__main__:Addition of 10 + 5 = 15"
   ]
  },
  {
   "cell_type": "code",
   "execution_count": null,
   "metadata": {},
   "outputs": [],
   "source": [
    "# We can also set the log level at the file_handler level which will override the logger level \n",
    "\n",
    "import logging\n",
    "\n",
    "additionLogger = logging.getLogger(__name__) # Creating a logger for addition.py\n",
    "additionLogger.setLevel(logging.DEBUG)\n",
    "# Specifying filename and formatter in the basicConfig indicates that its a root logger log file so we are creating our own fileHandler\n",
    "\n",
    "formatter = logging.Formatter('%(asctime)s:%(levelname)s:%(message)s') # Creating our own custom formatter\n",
    "file_handler = logging.FileHandler('addition.log')  # FileHandler meant for custom log file dedicated to this logger \n",
    "file_handler.setFormatter(formatter)\n",
    "\n",
    "file_handler.setLevel(logging.ERROR)\n",
    "\n",
    "additionLogger.addHandler(file_handler)\n",
    "\n",
    "\"\"\"\n",
    "logging.basicConfig(filename='sample.log', level=logging.DEBUG, \n",
    "                   format='%(asctime)s:%(levelname)s:%(message)s')  # Adding Log format option\n",
    "\"\"\"\n",
    "\n",
    "def adding(x,y):\n",
    "    return x + y\n",
    "\n",
    "num1 = 10\n",
    "num2 = 5\n",
    "additionLogger.debug('Addition of {} + {} = {}'.format(num1,num2,adding(num1,num2)))"
   ]
  },
  {
   "cell_type": "markdown",
   "metadata": {},
   "source": [
    "Note:\n",
    "If you would like to capture the traceback exception in the logging then we can make use of \n",
    "\n",
    "logging.exception('caught exception message here')"
   ]
  },
  {
   "cell_type": "code",
   "execution_count": null,
   "metadata": {},
   "outputs": [],
   "source": [
    "# There is an option to use Stream handler which will print the logs in the output console as well as writing it in the log file\n",
    "\n",
    "import logging\n",
    "\n",
    "additionLogger = logging.getLogger(__name__) # Creating a logger for addition.py\n",
    "additionLogger.setLevel(logging.DEBUG)\n",
    "# Specifying filename and formatter in the basicConfig indicates that its a root logger log file so we are creating our own fileHandler\n",
    "\n",
    "formatter = logging.Formatter('%(asctime)s:%(levelname)s:%(message)s') # Creating our own custom formatter\n",
    "file_handler = logging.FileHandler('addition.log')  # FileHandler meant for custom log file dedicated to this logger \n",
    "file_handler.setLevel(logging.ERROR)\n",
    "file_handler.setFormatter(formatter)\n",
    "\n",
    "stream_handler = logging.StreamHandler()\n",
    "stream_handler.setFormatter(formatter)\n",
    "\n",
    "additionLogger.addHandler(file_handler)\n",
    "additionLogger.addHandler(stream_handler)\n",
    "\n",
    "\"\"\"\n",
    "logging.basicConfig(filename='sample.log', level=logging.DEBUG, \n",
    "                   format='%(asctime)s:%(levelname)s:%(message)s')  # Adding Log format option\n",
    "\"\"\"\n",
    "\n",
    "def adding(x,y):\n",
    "    return x + y\n",
    "\n",
    "num1 = 10\n",
    "num2 = 5\n",
    "additionLogger.debug('Addition of {} + {} = {}'.format(num1,num2,adding(num1,num2)))"
   ]
  }
 ],
 "metadata": {
  "kernelspec": {
   "display_name": "Python 3",
   "language": "python",
   "name": "python3"
  },
  "language_info": {
   "codemirror_mode": {
    "name": "ipython",
    "version": 3
   },
   "file_extension": ".py",
   "mimetype": "text/x-python",
   "name": "python",
   "nbconvert_exporter": "python",
   "pygments_lexer": "ipython3",
   "version": "3.8.5"
  }
 },
 "nbformat": 4,
 "nbformat_minor": 4
}
