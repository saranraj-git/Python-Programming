{
 "cells": [
  {
   "cell_type": "code",
   "execution_count": 2,
   "metadata": {},
   "outputs": [
    {
     "name": "stdout",
     "output_type": "stream",
     "text": [
      "['DirEntry', 'F_OK', 'MutableMapping', 'O_APPEND', 'O_BINARY', 'O_CREAT', 'O_EXCL', 'O_NOINHERIT', 'O_RANDOM', 'O_RDONLY', 'O_RDWR', 'O_SEQUENTIAL', 'O_SHORT_LIVED', 'O_TEMPORARY', 'O_TEXT', 'O_TRUNC', 'O_WRONLY', 'P_DETACH', 'P_NOWAIT', 'P_NOWAITO', 'P_OVERLAY', 'P_WAIT', 'PathLike', 'R_OK', 'SEEK_CUR', 'SEEK_END', 'SEEK_SET', 'TMP_MAX', 'W_OK', 'X_OK', '_AddedDllDirectory', '_Environ', '__all__', '__builtins__', '__cached__', '__doc__', '__file__', '__loader__', '__name__', '__package__', '__spec__', '_check_methods', '_execvpe', '_exists', '_exit', '_fspath', '_get_exports_list', '_putenv', '_unsetenv', '_wrap_close', 'abc', 'abort', 'access', 'add_dll_directory', 'altsep', 'chdir', 'chmod', 'close', 'closerange', 'cpu_count', 'curdir', 'defpath', 'device_encoding', 'devnull', 'dup', 'dup2', 'environ', 'error', 'execl', 'execle', 'execlp', 'execlpe', 'execv', 'execve', 'execvp', 'execvpe', 'extsep', 'fdopen', 'fsdecode', 'fsencode', 'fspath', 'fstat', 'fsync', 'ftruncate', 'get_exec_path', 'get_handle_inheritable', 'get_inheritable', 'get_terminal_size', 'getcwd', 'getcwdb', 'getenv', 'getlogin', 'getpid', 'getppid', 'isatty', 'kill', 'linesep', 'link', 'listdir', 'lseek', 'lstat', 'makedirs', 'mkdir', 'name', 'open', 'pardir', 'path', 'pathsep', 'pipe', 'popen', 'putenv', 'read', 'readlink', 'remove', 'removedirs', 'rename', 'renames', 'replace', 'rmdir', 'scandir', 'sep', 'set_handle_inheritable', 'set_inheritable', 'spawnl', 'spawnle', 'spawnv', 'spawnve', 'st', 'startfile', 'stat', 'stat_result', 'statvfs_result', 'strerror', 'supports_bytes_environ', 'supports_dir_fd', 'supports_effective_ids', 'supports_fd', 'supports_follow_symlinks', 'symlink', 'sys', 'system', 'terminal_size', 'times', 'times_result', 'truncate', 'umask', 'uname_result', 'unlink', 'urandom', 'utime', 'waitpid', 'walk', 'write']\n"
     ]
    }
   ],
   "source": [
    "import os \n",
    "\n",
    "# To know about the methods and classes in the module \n",
    "\n",
    "print(dir(os))"
   ]
  },
  {
   "cell_type": "code",
   "execution_count": 3,
   "metadata": {},
   "outputs": [
    {
     "name": "stdout",
     "output_type": "stream",
     "text": [
      "C:\\Users\\saran\\PycharmProjects\\srjPython\n"
     ]
    }
   ],
   "source": [
    "# To get the Current working Directory\n",
    "print(os.getcwd())"
   ]
  },
  {
   "cell_type": "code",
   "execution_count": 8,
   "metadata": {},
   "outputs": [
    {
     "ename": "SyntaxError",
     "evalue": "(unicode error) 'unicodeescape' codec can't decode bytes in position 2-3: truncated \\UXXXXXXXX escape (<ipython-input-8-71675ebfd1d9>, line 3)",
     "output_type": "error",
     "traceback": [
      "\u001b[1;36m  File \u001b[1;32m\"<ipython-input-8-71675ebfd1d9>\"\u001b[1;36m, line \u001b[1;32m3\u001b[0m\n\u001b[1;33m    os.chdir('C:\\Users\\saran\\PycharmProjects\\srjPython\\sampledir')\u001b[0m\n\u001b[1;37m             ^\u001b[0m\n\u001b[1;31mSyntaxError\u001b[0m\u001b[1;31m:\u001b[0m (unicode error) 'unicodeescape' codec can't decode bytes in position 2-3: truncated \\UXXXXXXXX escape\n"
     ]
    }
   ],
   "source": [
    "# To change the directory\n",
    "\n",
    "os.chdir('C:\\Users\\saran\\PycharmProjects\\srjPython\\sampledir')"
   ]
  },
  {
   "cell_type": "code",
   "execution_count": 9,
   "metadata": {},
   "outputs": [
    {
     "name": "stdout",
     "output_type": "stream",
     "text": [
      "C:\\Users\\saran\\PycharmProjects\\srjPython\\sampledir\n"
     ]
    }
   ],
   "source": [
    "os.chdir('C:\\\\Users\\\\saran\\\\PycharmProjects\\\\srjPython\\\\sampledir')\n",
    "print(os.getcwd())"
   ]
  },
  {
   "cell_type": "code",
   "execution_count": 11,
   "metadata": {},
   "outputs": [
    {
     "name": "stdout",
     "output_type": "stream",
     "text": [
      "['.idea', '.ipynb_checkpoints', 'awk.sh', 'main.py', 'OS_Module.ipynb', 'sampledir', 'venv']\n"
     ]
    }
   ],
   "source": [
    "#To see the list of directories and files in the current directory\n",
    "os.chdir('C:\\\\Users\\\\saran\\\\PycharmProjects\\\\srjPython\\\\')\n",
    "print(os.listdir())"
   ]
  },
  {
   "cell_type": "code",
   "execution_count": 12,
   "metadata": {},
   "outputs": [],
   "source": [
    "# To create the directory \n",
    "\n",
    "os.mkdir('mydir1')  # It will create only one dir in the current path\n"
   ]
  },
  {
   "cell_type": "code",
   "execution_count": 13,
   "metadata": {},
   "outputs": [
    {
     "name": "stdout",
     "output_type": "stream",
     "text": [
      "['.idea', '.ipynb_checkpoints', 'awk.sh', 'main.py', 'mydir1', 'OS_Module.ipynb', 'sampledir', 'venv']\n"
     ]
    }
   ],
   "source": [
    "print(os.listdir())"
   ]
  },
  {
   "cell_type": "code",
   "execution_count": 14,
   "metadata": {},
   "outputs": [
    {
     "name": "stdout",
     "output_type": "stream",
     "text": [
      "['child-dir2']\n"
     ]
    }
   ],
   "source": [
    "# To create the list of nested sub-directories \n",
    "os.makedirs('nestdir\\\\child-dir1\\\\child-dir2')\n",
    "print(os.listdir('nestdir\\\\child-dir1\\\\'))"
   ]
  },
  {
   "cell_type": "code",
   "execution_count": 15,
   "metadata": {},
   "outputs": [],
   "source": [
    "# Deleting folders\n",
    "os.rmdir('mydir1') # only delete the current dir\n",
    "os.removedirs('nestdir\\\\child-dir1\\\\child-dir2') # Delete all recursive directories"
   ]
  },
  {
   "cell_type": "code",
   "execution_count": 16,
   "metadata": {},
   "outputs": [
    {
     "name": "stdout",
     "output_type": "stream",
     "text": [
      "['.idea', '.ipynb_checkpoints', 'awk.sh', 'main.py', 'OS_Module.ipynb', 'sampledir', 'venv']\n"
     ]
    }
   ],
   "source": [
    "print(os.listdir())"
   ]
  },
  {
   "cell_type": "code",
   "execution_count": 17,
   "metadata": {},
   "outputs": [],
   "source": [
    "# To rename the directory\n",
    "os.mkdir('demodir')"
   ]
  },
  {
   "cell_type": "code",
   "execution_count": 18,
   "metadata": {},
   "outputs": [],
   "source": [
    "os.rename('demodir','newname-dir')"
   ]
  },
  {
   "cell_type": "code",
   "execution_count": 19,
   "metadata": {},
   "outputs": [
    {
     "data": {
      "text/plain": [
       "['.idea',\n",
       " '.ipynb_checkpoints',\n",
       " 'awk.sh',\n",
       " 'main.py',\n",
       " 'newname-dir',\n",
       " 'OS_Module.ipynb',\n",
       " 'sampledir',\n",
       " 'venv']"
      ]
     },
     "execution_count": 19,
     "metadata": {},
     "output_type": "execute_result"
    }
   ],
   "source": [
    "os.listdir()"
   ]
  },
  {
   "cell_type": "code",
   "execution_count": 20,
   "metadata": {},
   "outputs": [
    {
     "name": "stdout",
     "output_type": "stream",
     "text": [
      "os.stat_result(st_mode=33206, st_ino=3096224743854875, st_dev=3465819580, st_nlink=1, st_uid=0, st_gid=0, st_size=544, st_atime=1623303129, st_mtime=1623303129, st_ctime=1623303110)\n"
     ]
    }
   ],
   "source": [
    "# To get the metadata of files and directories\n",
    "print(os.stat('main.py'))"
   ]
  },
  {
   "cell_type": "code",
   "execution_count": 21,
   "metadata": {},
   "outputs": [
    {
     "name": "stdout",
     "output_type": "stream",
     "text": [
      "544\n"
     ]
    }
   ],
   "source": [
    "print(os.stat('main.py').st_size) # to get the file size"
   ]
  },
  {
   "cell_type": "code",
   "execution_count": 22,
   "metadata": {},
   "outputs": [
    {
     "name": "stdout",
     "output_type": "stream",
     "text": [
      "1623303129.656626\n"
     ]
    }
   ],
   "source": [
    "print(os.stat('main.py').st_mtime) # to get the last modified time"
   ]
  },
  {
   "cell_type": "code",
   "execution_count": 23,
   "metadata": {},
   "outputs": [
    {
     "name": "stdout",
     "output_type": "stream",
     "text": [
      "2021-06-10 15:32:09.656626\n"
     ]
    }
   ],
   "source": [
    "# To get the timestamp in human readable format\n",
    "from datetime import datetime\n",
    "\n",
    "mod_time = os.stat('main.py').st_mtime\n",
    "print(datetime.fromtimestamp(mod_time))"
   ]
  },
  {
   "cell_type": "code",
   "execution_count": 24,
   "metadata": {},
   "outputs": [
    {
     "name": "stdout",
     "output_type": "stream",
     "text": [
      "Current path: C:\\Users\\saran\\PycharmProjects\\srjPython\\\n",
      "Directories: ['.idea', '.ipynb_checkpoints', 'newname-dir', 'sampledir', 'venv']\n",
      "Files ['awk.sh', 'main.py', 'OS_Module.ipynb']\n",
      "\n",
      "Current path: C:\\Users\\saran\\PycharmProjects\\srjPython\\.idea\n",
      "Directories: ['inspectionProfiles']\n",
      "Files ['.gitignore', 'aws.xml', 'misc.xml', 'modules.xml', 'srjPython.iml', 'workspace.xml']\n",
      "\n",
      "Current path: C:\\Users\\saran\\PycharmProjects\\srjPython\\.idea\\inspectionProfiles\n",
      "Directories: []\n",
      "Files ['profiles_settings.xml']\n",
      "\n",
      "Current path: C:\\Users\\saran\\PycharmProjects\\srjPython\\.ipynb_checkpoints\n",
      "Directories: []\n",
      "Files ['OS_Module-checkpoint.ipynb']\n",
      "\n",
      "Current path: C:\\Users\\saran\\PycharmProjects\\srjPython\\newname-dir\n",
      "Directories: []\n",
      "Files []\n",
      "\n",
      "Current path: C:\\Users\\saran\\PycharmProjects\\srjPython\\sampledir\n",
      "Directories: []\n",
      "Files []\n",
      "\n",
      "Current path: C:\\Users\\saran\\PycharmProjects\\srjPython\\venv\n",
      "Directories: ['Include', 'Lib', 'Scripts']\n",
      "Files ['pyvenv.cfg']\n",
      "\n",
      "Current path: C:\\Users\\saran\\PycharmProjects\\srjPython\\venv\\Include\n",
      "Directories: []\n",
      "Files []\n",
      "\n",
      "Current path: C:\\Users\\saran\\PycharmProjects\\srjPython\\venv\\Lib\n",
      "Directories: ['site-packages']\n",
      "Files []\n",
      "\n",
      "Current path: C:\\Users\\saran\\PycharmProjects\\srjPython\\venv\\Lib\\site-packages\n",
      "Directories: ['pip', 'pip-21.1.2.dist-info', 'pkg_resources', 'setuptools', 'setuptools-57.0.0.dist-info', '_distutils_hack']\n",
      "Files ['distutils-precedence.pth']\n",
      "\n",
      "Current path: C:\\Users\\saran\\PycharmProjects\\srjPython\\venv\\Lib\\site-packages\\pip\n",
      "Directories: ['_internal', '_vendor', '__pycache__']\n",
      "Files ['py.typed', '__init__.py', '__main__.py']\n",
      "\n",
      "Current path: C:\\Users\\saran\\PycharmProjects\\srjPython\\venv\\Lib\\site-packages\\pip\\_internal\n",
      "Directories: ['cli', 'commands', 'distributions', 'index', 'locations', 'metadata', 'models', 'network', 'operations', 'req', 'resolution', 'utils', 'vcs', '__pycache__']\n",
      "Files ['build_env.py', 'cache.py', 'configuration.py', 'exceptions.py', 'main.py', 'pyproject.py', 'self_outdated_check.py', 'wheel_builder.py', '__init__.py']\n",
      "\n",
      "Current path: C:\\Users\\saran\\PycharmProjects\\srjPython\\venv\\Lib\\site-packages\\pip\\_internal\\cli\n",
      "Directories: ['__pycache__']\n",
      "Files ['autocompletion.py', 'base_command.py', 'cmdoptions.py', 'command_context.py', 'main.py', 'main_parser.py', 'parser.py', 'progress_bars.py', 'req_command.py', 'spinners.py', 'status_codes.py', '__init__.py']\n",
      "\n",
      "Current path: C:\\Users\\saran\\PycharmProjects\\srjPython\\venv\\Lib\\site-packages\\pip\\_internal\\cli\\__pycache__\n",
      "Directories: []\n",
      "Files ['autocompletion.cpython-38.pyc', 'base_command.cpython-38.pyc', 'cmdoptions.cpython-38.pyc', 'command_context.cpython-38.pyc', 'main.cpython-38.pyc', 'main_parser.cpython-38.pyc', 'parser.cpython-38.pyc', 'progress_bars.cpython-38.pyc', 'req_command.cpython-38.pyc', 'spinners.cpython-38.pyc', 'status_codes.cpython-38.pyc', '__init__.cpython-38.pyc']\n",
      "\n",
      "Current path: C:\\Users\\saran\\PycharmProjects\\srjPython\\venv\\Lib\\site-packages\\pip\\_internal\\commands\n",
      "Directories: ['__pycache__']\n",
      "Files ['cache.py', 'check.py', 'completion.py', 'configuration.py', 'debug.py', 'download.py', 'freeze.py', 'hash.py', 'help.py', 'install.py', 'list.py', 'search.py', 'show.py', 'uninstall.py', 'wheel.py', '__init__.py']\n",
      "\n",
      "Current path: C:\\Users\\saran\\PycharmProjects\\srjPython\\venv\\Lib\\site-packages\\pip\\_internal\\commands\\__pycache__\n",
      "Directories: []\n",
      "Files ['cache.cpython-38.pyc', 'check.cpython-38.pyc', 'completion.cpython-38.pyc', 'configuration.cpython-38.pyc', 'debug.cpython-38.pyc', 'download.cpython-38.pyc', 'freeze.cpython-38.pyc', 'hash.cpython-38.pyc', 'help.cpython-38.pyc', 'install.cpython-38.pyc', 'list.cpython-38.pyc', 'search.cpython-38.pyc', 'show.cpython-38.pyc', 'uninstall.cpython-38.pyc', 'wheel.cpython-38.pyc', '__init__.cpython-38.pyc']\n",
      "\n",
      "Current path: C:\\Users\\saran\\PycharmProjects\\srjPython\\venv\\Lib\\site-packages\\pip\\_internal\\distributions\n",
      "Directories: ['__pycache__']\n",
      "Files ['base.py', 'installed.py', 'sdist.py', 'wheel.py', '__init__.py']\n",
      "\n",
      "Current path: C:\\Users\\saran\\PycharmProjects\\srjPython\\venv\\Lib\\site-packages\\pip\\_internal\\distributions\\__pycache__\n",
      "Directories: []\n",
      "Files ['base.cpython-38.pyc', 'installed.cpython-38.pyc', 'sdist.cpython-38.pyc', 'wheel.cpython-38.pyc', '__init__.cpython-38.pyc']\n",
      "\n",
      "Current path: C:\\Users\\saran\\PycharmProjects\\srjPython\\venv\\Lib\\site-packages\\pip\\_internal\\index\n",
      "Directories: ['__pycache__']\n",
      "Files ['collector.py', 'package_finder.py', 'sources.py', '__init__.py']\n",
      "\n",
      "Current path: C:\\Users\\saran\\PycharmProjects\\srjPython\\venv\\Lib\\site-packages\\pip\\_internal\\index\\__pycache__\n",
      "Directories: []\n",
      "Files ['collector.cpython-38.pyc', 'package_finder.cpython-38.pyc', 'sources.cpython-38.pyc', '__init__.cpython-38.pyc']\n",
      "\n",
      "Current path: C:\\Users\\saran\\PycharmProjects\\srjPython\\venv\\Lib\\site-packages\\pip\\_internal\\locations\n",
      "Directories: ['__pycache__']\n",
      "Files ['base.py', '_distutils.py', '_sysconfig.py', '__init__.py']\n",
      "\n",
      "Current path: C:\\Users\\saran\\PycharmProjects\\srjPython\\venv\\Lib\\site-packages\\pip\\_internal\\locations\\__pycache__\n",
      "Directories: []\n",
      "Files ['base.cpython-38.pyc', '_distutils.cpython-38.pyc', '_sysconfig.cpython-38.pyc', '__init__.cpython-38.pyc']\n",
      "\n",
      "Current path: C:\\Users\\saran\\PycharmProjects\\srjPython\\venv\\Lib\\site-packages\\pip\\_internal\\metadata\n",
      "Directories: ['__pycache__']\n",
      "Files ['base.py', 'pkg_resources.py', '__init__.py']\n",
      "\n",
      "Current path: C:\\Users\\saran\\PycharmProjects\\srjPython\\venv\\Lib\\site-packages\\pip\\_internal\\metadata\\__pycache__\n",
      "Directories: []\n",
      "Files ['base.cpython-38.pyc', 'pkg_resources.cpython-38.pyc', '__init__.cpython-38.pyc']\n",
      "\n",
      "Current path: C:\\Users\\saran\\PycharmProjects\\srjPython\\venv\\Lib\\site-packages\\pip\\_internal\\models\n",
      "Directories: ['__pycache__']\n",
      "Files ['candidate.py', 'direct_url.py', 'format_control.py', 'index.py', 'link.py', 'scheme.py', 'search_scope.py', 'selection_prefs.py', 'target_python.py', 'wheel.py', '__init__.py']\n",
      "\n",
      "Current path: C:\\Users\\saran\\PycharmProjects\\srjPython\\venv\\Lib\\site-packages\\pip\\_internal\\models\\__pycache__\n",
      "Directories: []\n",
      "Files ['candidate.cpython-38.pyc', 'direct_url.cpython-38.pyc', 'format_control.cpython-38.pyc', 'index.cpython-38.pyc', 'link.cpython-38.pyc', 'scheme.cpython-38.pyc', 'search_scope.cpython-38.pyc', 'selection_prefs.cpython-38.pyc', 'target_python.cpython-38.pyc', 'wheel.cpython-38.pyc', '__init__.cpython-38.pyc']\n",
      "\n",
      "Current path: C:\\Users\\saran\\PycharmProjects\\srjPython\\venv\\Lib\\site-packages\\pip\\_internal\\network\n",
      "Directories: ['__pycache__']\n",
      "Files ['auth.py', 'cache.py', 'download.py', 'lazy_wheel.py', 'session.py', 'utils.py', 'xmlrpc.py', '__init__.py']\n",
      "\n",
      "Current path: C:\\Users\\saran\\PycharmProjects\\srjPython\\venv\\Lib\\site-packages\\pip\\_internal\\network\\__pycache__\n",
      "Directories: []\n",
      "Files ['auth.cpython-38.pyc', 'cache.cpython-38.pyc', 'download.cpython-38.pyc', 'lazy_wheel.cpython-38.pyc', 'session.cpython-38.pyc', 'utils.cpython-38.pyc', 'xmlrpc.cpython-38.pyc', '__init__.cpython-38.pyc']\n",
      "\n",
      "Current path: C:\\Users\\saran\\PycharmProjects\\srjPython\\venv\\Lib\\site-packages\\pip\\_internal\\operations\n",
      "Directories: ['build', 'install', '__pycache__']\n",
      "Files ['check.py', 'freeze.py', 'prepare.py', '__init__.py']\n",
      "\n",
      "Current path: C:\\Users\\saran\\PycharmProjects\\srjPython\\venv\\Lib\\site-packages\\pip\\_internal\\operations\\build\n",
      "Directories: ['__pycache__']\n",
      "Files ['metadata.py', 'metadata_legacy.py', 'wheel.py', 'wheel_legacy.py', '__init__.py']\n",
      "\n",
      "Current path: C:\\Users\\saran\\PycharmProjects\\srjPython\\venv\\Lib\\site-packages\\pip\\_internal\\operations\\build\\__pycache__\n",
      "Directories: []\n",
      "Files ['metadata.cpython-38.pyc', 'metadata_legacy.cpython-38.pyc', 'wheel.cpython-38.pyc', 'wheel_legacy.cpython-38.pyc', '__init__.cpython-38.pyc']\n",
      "\n",
      "Current path: C:\\Users\\saran\\PycharmProjects\\srjPython\\venv\\Lib\\site-packages\\pip\\_internal\\operations\\install\n",
      "Directories: ['__pycache__']\n",
      "Files ['editable_legacy.py', 'legacy.py', 'wheel.py', '__init__.py']\n",
      "\n",
      "Current path: C:\\Users\\saran\\PycharmProjects\\srjPython\\venv\\Lib\\site-packages\\pip\\_internal\\operations\\install\\__pycache__\n",
      "Directories: []\n",
      "Files ['editable_legacy.cpython-38.pyc', 'legacy.cpython-38.pyc', 'wheel.cpython-38.pyc', '__init__.cpython-38.pyc']\n",
      "\n",
      "Current path: C:\\Users\\saran\\PycharmProjects\\srjPython\\venv\\Lib\\site-packages\\pip\\_internal\\operations\\__pycache__\n",
      "Directories: []\n",
      "Files ['check.cpython-38.pyc', 'freeze.cpython-38.pyc', 'prepare.cpython-38.pyc', '__init__.cpython-38.pyc']\n",
      "\n",
      "Current path: C:\\Users\\saran\\PycharmProjects\\srjPython\\venv\\Lib\\site-packages\\pip\\_internal\\req\n",
      "Directories: ['__pycache__']\n",
      "Files ['constructors.py', 'req_file.py', 'req_install.py', 'req_set.py', 'req_tracker.py', 'req_uninstall.py', '__init__.py']\n",
      "\n",
      "Current path: C:\\Users\\saran\\PycharmProjects\\srjPython\\venv\\Lib\\site-packages\\pip\\_internal\\req\\__pycache__\n",
      "Directories: []\n",
      "Files ['constructors.cpython-38.pyc', 'req_file.cpython-38.pyc', 'req_install.cpython-38.pyc', 'req_set.cpython-38.pyc', 'req_tracker.cpython-38.pyc', 'req_uninstall.cpython-38.pyc', '__init__.cpython-38.pyc']\n",
      "\n",
      "Current path: C:\\Users\\saran\\PycharmProjects\\srjPython\\venv\\Lib\\site-packages\\pip\\_internal\\resolution\n",
      "Directories: ['legacy', 'resolvelib', '__pycache__']\n",
      "Files ['base.py', '__init__.py']\n",
      "\n",
      "Current path: C:\\Users\\saran\\PycharmProjects\\srjPython\\venv\\Lib\\site-packages\\pip\\_internal\\resolution\\legacy\n",
      "Directories: ['__pycache__']\n",
      "Files ['resolver.py', '__init__.py']\n",
      "\n",
      "Current path: C:\\Users\\saran\\PycharmProjects\\srjPython\\venv\\Lib\\site-packages\\pip\\_internal\\resolution\\legacy\\__pycache__\n",
      "Directories: []\n",
      "Files ['resolver.cpython-38.pyc', '__init__.cpython-38.pyc']\n",
      "\n",
      "Current path: C:\\Users\\saran\\PycharmProjects\\srjPython\\venv\\Lib\\site-packages\\pip\\_internal\\resolution\\resolvelib\n",
      "Directories: ['__pycache__']\n",
      "Files ['base.py', 'candidates.py', 'factory.py', 'found_candidates.py', 'provider.py', 'reporter.py', 'requirements.py', 'resolver.py', '__init__.py']\n",
      "\n",
      "Current path: C:\\Users\\saran\\PycharmProjects\\srjPython\\venv\\Lib\\site-packages\\pip\\_internal\\resolution\\resolvelib\\__pycache__\n",
      "Directories: []\n",
      "Files ['base.cpython-38.pyc', 'candidates.cpython-38.pyc', 'factory.cpython-38.pyc', 'found_candidates.cpython-38.pyc', 'provider.cpython-38.pyc', 'reporter.cpython-38.pyc', 'requirements.cpython-38.pyc', 'resolver.cpython-38.pyc', '__init__.cpython-38.pyc']\n",
      "\n",
      "Current path: C:\\Users\\saran\\PycharmProjects\\srjPython\\venv\\Lib\\site-packages\\pip\\_internal\\resolution\\__pycache__\n",
      "Directories: []\n",
      "Files ['base.cpython-38.pyc', '__init__.cpython-38.pyc']\n",
      "\n",
      "Current path: C:\\Users\\saran\\PycharmProjects\\srjPython\\venv\\Lib\\site-packages\\pip\\_internal\\utils\n",
      "Directories: ['__pycache__']\n",
      "Files ['appdirs.py', 'compat.py', 'compatibility_tags.py', 'datetime.py', 'deprecation.py', 'direct_url_helpers.py', 'distutils_args.py', 'encoding.py', 'entrypoints.py', 'filesystem.py', 'filetypes.py', 'glibc.py', 'hashes.py', 'inject_securetransport.py', 'logging.py', 'misc.py', 'models.py', 'packaging.py', 'parallel.py', 'pkg_resources.py', 'setuptools_build.py', 'subprocess.py', 'temp_dir.py', 'unpacking.py', 'urls.py', 'virtualenv.py', 'wheel.py', '__init__.py']\n",
      "\n",
      "Current path: C:\\Users\\saran\\PycharmProjects\\srjPython\\venv\\Lib\\site-packages\\pip\\_internal\\utils\\__pycache__\n",
      "Directories: []\n",
      "Files ['appdirs.cpython-38.pyc', 'compat.cpython-38.pyc', 'compatibility_tags.cpython-38.pyc', 'datetime.cpython-38.pyc', 'deprecation.cpython-38.pyc', 'direct_url_helpers.cpython-38.pyc', 'distutils_args.cpython-38.pyc', 'encoding.cpython-38.pyc', 'entrypoints.cpython-38.pyc', 'filesystem.cpython-38.pyc', 'filetypes.cpython-38.pyc', 'glibc.cpython-38.pyc', 'hashes.cpython-38.pyc', 'inject_securetransport.cpython-38.pyc', 'logging.cpython-38.pyc', 'misc.cpython-38.pyc', 'models.cpython-38.pyc', 'packaging.cpython-38.pyc', 'parallel.cpython-38.pyc', 'pkg_resources.cpython-38.pyc', 'setuptools_build.cpython-38.pyc', 'subprocess.cpython-38.pyc', 'temp_dir.cpython-38.pyc', 'unpacking.cpython-38.pyc', 'urls.cpython-38.pyc', 'virtualenv.cpython-38.pyc', 'wheel.cpython-38.pyc', '__init__.cpython-38.pyc']\n",
      "\n",
      "Current path: C:\\Users\\saran\\PycharmProjects\\srjPython\\venv\\Lib\\site-packages\\pip\\_internal\\vcs\n",
      "Directories: ['__pycache__']\n",
      "Files ['bazaar.py', 'git.py', 'mercurial.py', 'subversion.py', 'versioncontrol.py', '__init__.py']\n",
      "\n",
      "Current path: C:\\Users\\saran\\PycharmProjects\\srjPython\\venv\\Lib\\site-packages\\pip\\_internal\\vcs\\__pycache__\n",
      "Directories: []\n",
      "Files ['bazaar.cpython-38.pyc', 'git.cpython-38.pyc', 'mercurial.cpython-38.pyc', 'subversion.cpython-38.pyc', 'versioncontrol.cpython-38.pyc', '__init__.cpython-38.pyc']\n",
      "\n",
      "Current path: C:\\Users\\saran\\PycharmProjects\\srjPython\\venv\\Lib\\site-packages\\pip\\_internal\\__pycache__\n",
      "Directories: []\n",
      "Files ['build_env.cpython-38.pyc', 'cache.cpython-38.pyc', 'configuration.cpython-38.pyc', 'exceptions.cpython-38.pyc', 'main.cpython-38.pyc', 'pyproject.cpython-38.pyc', 'self_outdated_check.cpython-38.pyc', 'wheel_builder.cpython-38.pyc', '__init__.cpython-38.pyc']\n",
      "\n",
      "Current path: C:\\Users\\saran\\PycharmProjects\\srjPython\\venv\\Lib\\site-packages\\pip\\_vendor\n",
      "Directories: ['cachecontrol', 'certifi', 'chardet', 'colorama', 'distlib', 'html5lib', 'idna', 'msgpack', 'packaging', 'pep517', 'pkg_resources', 'progress', 'requests', 'resolvelib', 'tenacity', 'toml', 'urllib3', 'webencodings', '__pycache__']\n",
      "Files ['appdirs.py', 'distro.py', 'pyparsing.py', 'six.py', 'vendor.txt', '__init__.py']\n",
      "\n",
      "Current path: C:\\Users\\saran\\PycharmProjects\\srjPython\\venv\\Lib\\site-packages\\pip\\_vendor\\cachecontrol\n",
      "Directories: ['caches', '__pycache__']\n",
      "Files ['adapter.py', 'cache.py', 'compat.py', 'controller.py', 'filewrapper.py', 'heuristics.py', 'serialize.py', 'wrapper.py', '_cmd.py', '__init__.py']\n",
      "\n",
      "Current path: C:\\Users\\saran\\PycharmProjects\\srjPython\\venv\\Lib\\site-packages\\pip\\_vendor\\cachecontrol\\caches\n",
      "Directories: ['__pycache__']\n",
      "Files ['file_cache.py', 'redis_cache.py', '__init__.py']\n",
      "\n",
      "Current path: C:\\Users\\saran\\PycharmProjects\\srjPython\\venv\\Lib\\site-packages\\pip\\_vendor\\cachecontrol\\caches\\__pycache__\n",
      "Directories: []\n",
      "Files ['file_cache.cpython-38.pyc', 'redis_cache.cpython-38.pyc', '__init__.cpython-38.pyc']\n",
      "\n",
      "Current path: C:\\Users\\saran\\PycharmProjects\\srjPython\\venv\\Lib\\site-packages\\pip\\_vendor\\cachecontrol\\__pycache__\n",
      "Directories: []\n",
      "Files ['adapter.cpython-38.pyc', 'cache.cpython-38.pyc', 'compat.cpython-38.pyc', 'controller.cpython-38.pyc', 'filewrapper.cpython-38.pyc', 'heuristics.cpython-38.pyc', 'serialize.cpython-38.pyc', 'wrapper.cpython-38.pyc', '_cmd.cpython-38.pyc', '__init__.cpython-38.pyc']\n",
      "\n",
      "Current path: C:\\Users\\saran\\PycharmProjects\\srjPython\\venv\\Lib\\site-packages\\pip\\_vendor\\certifi\n",
      "Directories: ['__pycache__']\n",
      "Files ['cacert.pem', 'core.py', '__init__.py', '__main__.py']\n",
      "\n",
      "Current path: C:\\Users\\saran\\PycharmProjects\\srjPython\\venv\\Lib\\site-packages\\pip\\_vendor\\certifi\\__pycache__\n",
      "Directories: []\n",
      "Files ['core.cpython-38.pyc', '__init__.cpython-38.pyc', '__main__.cpython-38.pyc']\n",
      "\n",
      "Current path: C:\\Users\\saran\\PycharmProjects\\srjPython\\venv\\Lib\\site-packages\\pip\\_vendor\\chardet\n",
      "Directories: ['cli', 'metadata', '__pycache__']\n",
      "Files ['big5freq.py', 'big5prober.py', 'chardistribution.py', 'charsetgroupprober.py', 'charsetprober.py', 'codingstatemachine.py', 'compat.py', 'cp949prober.py', 'enums.py', 'escprober.py', 'escsm.py', 'eucjpprober.py', 'euckrfreq.py', 'euckrprober.py', 'euctwfreq.py', 'euctwprober.py', 'gb2312freq.py', 'gb2312prober.py', 'hebrewprober.py', 'jisfreq.py', 'jpcntx.py', 'langbulgarianmodel.py', 'langgreekmodel.py', 'langhebrewmodel.py', 'langhungarianmodel.py', 'langrussianmodel.py', 'langthaimodel.py', 'langturkishmodel.py', 'latin1prober.py', 'mbcharsetprober.py', 'mbcsgroupprober.py', 'mbcssm.py', 'sbcharsetprober.py', 'sbcsgroupprober.py', 'sjisprober.py', 'universaldetector.py', 'utf8prober.py', 'version.py', '__init__.py']\n",
      "\n",
      "Current path: C:\\Users\\saran\\PycharmProjects\\srjPython\\venv\\Lib\\site-packages\\pip\\_vendor\\chardet\\cli\n",
      "Directories: ['__pycache__']\n",
      "Files ['chardetect.py', '__init__.py']\n",
      "\n",
      "Current path: C:\\Users\\saran\\PycharmProjects\\srjPython\\venv\\Lib\\site-packages\\pip\\_vendor\\chardet\\cli\\__pycache__\n",
      "Directories: []\n",
      "Files ['chardetect.cpython-38.pyc', '__init__.cpython-38.pyc']\n",
      "\n",
      "Current path: C:\\Users\\saran\\PycharmProjects\\srjPython\\venv\\Lib\\site-packages\\pip\\_vendor\\chardet\\metadata\n",
      "Directories: ['__pycache__']\n",
      "Files ['languages.py', '__init__.py']\n",
      "\n",
      "Current path: C:\\Users\\saran\\PycharmProjects\\srjPython\\venv\\Lib\\site-packages\\pip\\_vendor\\chardet\\metadata\\__pycache__\n",
      "Directories: []\n",
      "Files ['languages.cpython-38.pyc', '__init__.cpython-38.pyc']\n",
      "\n",
      "Current path: C:\\Users\\saran\\PycharmProjects\\srjPython\\venv\\Lib\\site-packages\\pip\\_vendor\\chardet\\__pycache__\n",
      "Directories: []\n",
      "Files ['big5freq.cpython-38.pyc', 'big5prober.cpython-38.pyc', 'chardistribution.cpython-38.pyc', 'charsetgroupprober.cpython-38.pyc', 'charsetprober.cpython-38.pyc', 'codingstatemachine.cpython-38.pyc', 'compat.cpython-38.pyc', 'cp949prober.cpython-38.pyc', 'enums.cpython-38.pyc', 'escprober.cpython-38.pyc', 'escsm.cpython-38.pyc', 'eucjpprober.cpython-38.pyc', 'euckrfreq.cpython-38.pyc', 'euckrprober.cpython-38.pyc', 'euctwfreq.cpython-38.pyc', 'euctwprober.cpython-38.pyc', 'gb2312freq.cpython-38.pyc', 'gb2312prober.cpython-38.pyc', 'hebrewprober.cpython-38.pyc', 'jisfreq.cpython-38.pyc', 'jpcntx.cpython-38.pyc', 'langbulgarianmodel.cpython-38.pyc', 'langgreekmodel.cpython-38.pyc', 'langhebrewmodel.cpython-38.pyc', 'langhungarianmodel.cpython-38.pyc', 'langrussianmodel.cpython-38.pyc', 'langthaimodel.cpython-38.pyc', 'langturkishmodel.cpython-38.pyc', 'latin1prober.cpython-38.pyc', 'mbcharsetprober.cpython-38.pyc', 'mbcsgroupprober.cpython-38.pyc', 'mbcssm.cpython-38.pyc', 'sbcharsetprober.cpython-38.pyc', 'sbcsgroupprober.cpython-38.pyc', 'sjisprober.cpython-38.pyc', 'universaldetector.cpython-38.pyc', 'utf8prober.cpython-38.pyc', 'version.cpython-38.pyc', '__init__.cpython-38.pyc']\n",
      "\n",
      "Current path: C:\\Users\\saran\\PycharmProjects\\srjPython\\venv\\Lib\\site-packages\\pip\\_vendor\\colorama\n",
      "Directories: ['__pycache__']\n",
      "Files ['ansi.py', 'ansitowin32.py', 'initialise.py', 'win32.py', 'winterm.py', '__init__.py']\n",
      "\n",
      "Current path: C:\\Users\\saran\\PycharmProjects\\srjPython\\venv\\Lib\\site-packages\\pip\\_vendor\\colorama\\__pycache__\n",
      "Directories: []\n",
      "Files ['ansi.cpython-38.pyc', 'ansitowin32.cpython-38.pyc', 'initialise.cpython-38.pyc', 'win32.cpython-38.pyc', 'winterm.cpython-38.pyc', '__init__.cpython-38.pyc']\n",
      "\n",
      "Current path: C:\\Users\\saran\\PycharmProjects\\srjPython\\venv\\Lib\\site-packages\\pip\\_vendor\\distlib\n",
      "Directories: ['_backport', '__pycache__']\n",
      "Files ['compat.py', 'database.py', 'index.py', 'locators.py', 'manifest.py', 'markers.py', 'metadata.py', 'resources.py', 'scripts.py', 't32.exe', 't64.exe', 'util.py', 'version.py', 'w32.exe', 'w64.exe', 'wheel.py', '__init__.py']\n",
      "\n",
      "Current path: C:\\Users\\saran\\PycharmProjects\\srjPython\\venv\\Lib\\site-packages\\pip\\_vendor\\distlib\\_backport\n",
      "Directories: ['__pycache__']\n",
      "Files ['misc.py', 'shutil.py', 'sysconfig.cfg', 'sysconfig.py', 'tarfile.py', '__init__.py']\n",
      "\n",
      "Current path: C:\\Users\\saran\\PycharmProjects\\srjPython\\venv\\Lib\\site-packages\\pip\\_vendor\\distlib\\_backport\\__pycache__\n",
      "Directories: []\n",
      "Files ['misc.cpython-38.pyc', 'shutil.cpython-38.pyc', 'sysconfig.cpython-38.pyc', 'tarfile.cpython-38.pyc', '__init__.cpython-38.pyc']\n",
      "\n",
      "Current path: C:\\Users\\saran\\PycharmProjects\\srjPython\\venv\\Lib\\site-packages\\pip\\_vendor\\distlib\\__pycache__\n",
      "Directories: []\n",
      "Files ['compat.cpython-38.pyc', 'database.cpython-38.pyc', 'index.cpython-38.pyc', 'locators.cpython-38.pyc', 'manifest.cpython-38.pyc', 'markers.cpython-38.pyc', 'metadata.cpython-38.pyc', 'resources.cpython-38.pyc', 'scripts.cpython-38.pyc', 'util.cpython-38.pyc', 'version.cpython-38.pyc', 'wheel.cpython-38.pyc', '__init__.cpython-38.pyc']\n",
      "\n",
      "Current path: C:\\Users\\saran\\PycharmProjects\\srjPython\\venv\\Lib\\site-packages\\pip\\_vendor\\html5lib\n",
      "Directories: ['filters', 'treeadapters', 'treebuilders', 'treewalkers', '_trie', '__pycache__']\n",
      "Files ['constants.py', 'html5parser.py', 'serializer.py', '_ihatexml.py', '_inputstream.py', '_tokenizer.py', '_utils.py', '__init__.py']\n",
      "\n",
      "Current path: C:\\Users\\saran\\PycharmProjects\\srjPython\\venv\\Lib\\site-packages\\pip\\_vendor\\html5lib\\filters\n",
      "Directories: ['__pycache__']\n",
      "Files ['alphabeticalattributes.py', 'base.py', 'inject_meta_charset.py', 'lint.py', 'optionaltags.py', 'sanitizer.py', 'whitespace.py', '__init__.py']\n",
      "\n",
      "Current path: C:\\Users\\saran\\PycharmProjects\\srjPython\\venv\\Lib\\site-packages\\pip\\_vendor\\html5lib\\filters\\__pycache__\n",
      "Directories: []\n",
      "Files ['alphabeticalattributes.cpython-38.pyc', 'base.cpython-38.pyc', 'inject_meta_charset.cpython-38.pyc', 'lint.cpython-38.pyc', 'optionaltags.cpython-38.pyc', 'sanitizer.cpython-38.pyc', 'whitespace.cpython-38.pyc', '__init__.cpython-38.pyc']\n",
      "\n",
      "Current path: C:\\Users\\saran\\PycharmProjects\\srjPython\\venv\\Lib\\site-packages\\pip\\_vendor\\html5lib\\treeadapters\n",
      "Directories: ['__pycache__']\n",
      "Files ['genshi.py', 'sax.py', '__init__.py']\n",
      "\n",
      "Current path: C:\\Users\\saran\\PycharmProjects\\srjPython\\venv\\Lib\\site-packages\\pip\\_vendor\\html5lib\\treeadapters\\__pycache__\n",
      "Directories: []\n",
      "Files ['genshi.cpython-38.pyc', 'sax.cpython-38.pyc', '__init__.cpython-38.pyc']\n",
      "\n",
      "Current path: C:\\Users\\saran\\PycharmProjects\\srjPython\\venv\\Lib\\site-packages\\pip\\_vendor\\html5lib\\treebuilders\n",
      "Directories: ['__pycache__']\n",
      "Files ['base.py', 'dom.py', 'etree.py', 'etree_lxml.py', '__init__.py']\n",
      "\n",
      "Current path: C:\\Users\\saran\\PycharmProjects\\srjPython\\venv\\Lib\\site-packages\\pip\\_vendor\\html5lib\\treebuilders\\__pycache__\n",
      "Directories: []\n",
      "Files ['base.cpython-38.pyc', 'dom.cpython-38.pyc', 'etree.cpython-38.pyc', 'etree_lxml.cpython-38.pyc', '__init__.cpython-38.pyc']\n",
      "\n",
      "Current path: C:\\Users\\saran\\PycharmProjects\\srjPython\\venv\\Lib\\site-packages\\pip\\_vendor\\html5lib\\treewalkers\n",
      "Directories: ['__pycache__']\n",
      "Files ['base.py', 'dom.py', 'etree.py', 'etree_lxml.py', 'genshi.py', '__init__.py']\n",
      "\n",
      "Current path: C:\\Users\\saran\\PycharmProjects\\srjPython\\venv\\Lib\\site-packages\\pip\\_vendor\\html5lib\\treewalkers\\__pycache__\n",
      "Directories: []\n",
      "Files ['base.cpython-38.pyc', 'dom.cpython-38.pyc', 'etree.cpython-38.pyc', 'etree_lxml.cpython-38.pyc', 'genshi.cpython-38.pyc', '__init__.cpython-38.pyc']\n",
      "\n",
      "Current path: C:\\Users\\saran\\PycharmProjects\\srjPython\\venv\\Lib\\site-packages\\pip\\_vendor\\html5lib\\_trie\n",
      "Directories: ['__pycache__']\n",
      "Files ['py.py', '_base.py', '__init__.py']\n",
      "\n",
      "Current path: C:\\Users\\saran\\PycharmProjects\\srjPython\\venv\\Lib\\site-packages\\pip\\_vendor\\html5lib\\_trie\\__pycache__\n",
      "Directories: []\n",
      "Files ['py.cpython-38.pyc', '_base.cpython-38.pyc', '__init__.cpython-38.pyc']\n",
      "\n",
      "Current path: C:\\Users\\saran\\PycharmProjects\\srjPython\\venv\\Lib\\site-packages\\pip\\_vendor\\html5lib\\__pycache__\n",
      "Directories: []\n",
      "Files ['constants.cpython-38.pyc', 'html5parser.cpython-38.pyc', 'serializer.cpython-38.pyc', '_ihatexml.cpython-38.pyc', '_inputstream.cpython-38.pyc', '_tokenizer.cpython-38.pyc', '_utils.cpython-38.pyc', '__init__.cpython-38.pyc']\n",
      "\n",
      "Current path: C:\\Users\\saran\\PycharmProjects\\srjPython\\venv\\Lib\\site-packages\\pip\\_vendor\\idna\n",
      "Directories: ['__pycache__']\n",
      "Files ['codec.py', 'compat.py', 'core.py', 'idnadata.py', 'intranges.py', 'package_data.py', 'uts46data.py', '__init__.py']\n",
      "\n",
      "Current path: C:\\Users\\saran\\PycharmProjects\\srjPython\\venv\\Lib\\site-packages\\pip\\_vendor\\idna\\__pycache__\n",
      "Directories: []\n",
      "Files ['codec.cpython-38.pyc', 'compat.cpython-38.pyc', 'core.cpython-38.pyc', 'idnadata.cpython-38.pyc', 'intranges.cpython-38.pyc', 'package_data.cpython-38.pyc', 'uts46data.cpython-38.pyc', '__init__.cpython-38.pyc']\n",
      "\n",
      "Current path: C:\\Users\\saran\\PycharmProjects\\srjPython\\venv\\Lib\\site-packages\\pip\\_vendor\\msgpack\n",
      "Directories: ['__pycache__']\n",
      "Files ['exceptions.py', 'ext.py', 'fallback.py', '_version.py', '__init__.py']\n",
      "\n",
      "Current path: C:\\Users\\saran\\PycharmProjects\\srjPython\\venv\\Lib\\site-packages\\pip\\_vendor\\msgpack\\__pycache__\n",
      "Directories: []\n",
      "Files ['exceptions.cpython-38.pyc', 'ext.cpython-38.pyc', 'fallback.cpython-38.pyc', '_version.cpython-38.pyc', '__init__.cpython-38.pyc']\n",
      "\n",
      "Current path: C:\\Users\\saran\\PycharmProjects\\srjPython\\venv\\Lib\\site-packages\\pip\\_vendor\\packaging\n",
      "Directories: ['__pycache__']\n",
      "Files ['markers.py', 'requirements.py', 'specifiers.py', 'tags.py', 'utils.py', 'version.py', '_compat.py', '_structures.py', '_typing.py', '__about__.py', '__init__.py']\n",
      "\n",
      "Current path: C:\\Users\\saran\\PycharmProjects\\srjPython\\venv\\Lib\\site-packages\\pip\\_vendor\\packaging\\__pycache__\n",
      "Directories: []\n",
      "Files ['markers.cpython-38.pyc', 'requirements.cpython-38.pyc', 'specifiers.cpython-38.pyc', 'tags.cpython-38.pyc', 'utils.cpython-38.pyc', 'version.cpython-38.pyc', '_compat.cpython-38.pyc', '_structures.cpython-38.pyc', '_typing.cpython-38.pyc', '__about__.cpython-38.pyc', '__init__.cpython-38.pyc']\n",
      "\n",
      "Current path: C:\\Users\\saran\\PycharmProjects\\srjPython\\venv\\Lib\\site-packages\\pip\\_vendor\\pep517\n",
      "Directories: ['in_process', '__pycache__']\n",
      "Files ['build.py', 'check.py', 'colorlog.py', 'compat.py', 'dirtools.py', 'envbuild.py', 'meta.py', 'wrappers.py', '__init__.py']\n",
      "\n",
      "Current path: C:\\Users\\saran\\PycharmProjects\\srjPython\\venv\\Lib\\site-packages\\pip\\_vendor\\pep517\\in_process\n",
      "Directories: ['__pycache__']\n",
      "Files ['_in_process.py', '__init__.py']\n",
      "\n",
      "Current path: C:\\Users\\saran\\PycharmProjects\\srjPython\\venv\\Lib\\site-packages\\pip\\_vendor\\pep517\\in_process\\__pycache__\n",
      "Directories: []\n",
      "Files ['_in_process.cpython-38.pyc', '__init__.cpython-38.pyc']\n",
      "\n",
      "Current path: C:\\Users\\saran\\PycharmProjects\\srjPython\\venv\\Lib\\site-packages\\pip\\_vendor\\pep517\\__pycache__\n",
      "Directories: []\n",
      "Files ['build.cpython-38.pyc', 'check.cpython-38.pyc', 'colorlog.cpython-38.pyc', 'compat.cpython-38.pyc', 'dirtools.cpython-38.pyc', 'envbuild.cpython-38.pyc', 'meta.cpython-38.pyc', 'wrappers.cpython-38.pyc', '__init__.cpython-38.pyc']\n",
      "\n",
      "Current path: C:\\Users\\saran\\PycharmProjects\\srjPython\\venv\\Lib\\site-packages\\pip\\_vendor\\pkg_resources\n",
      "Directories: ['__pycache__']\n",
      "Files ['py31compat.py', '__init__.py']\n",
      "\n",
      "Current path: C:\\Users\\saran\\PycharmProjects\\srjPython\\venv\\Lib\\site-packages\\pip\\_vendor\\pkg_resources\\__pycache__\n",
      "Directories: []\n",
      "Files ['py31compat.cpython-38.pyc', '__init__.cpython-38.pyc']\n",
      "\n",
      "Current path: C:\\Users\\saran\\PycharmProjects\\srjPython\\venv\\Lib\\site-packages\\pip\\_vendor\\progress\n",
      "Directories: ['__pycache__']\n",
      "Files ['bar.py', 'counter.py', 'spinner.py', '__init__.py']\n",
      "\n",
      "Current path: C:\\Users\\saran\\PycharmProjects\\srjPython\\venv\\Lib\\site-packages\\pip\\_vendor\\progress\\__pycache__\n",
      "Directories: []\n",
      "Files ['bar.cpython-38.pyc', 'counter.cpython-38.pyc', 'spinner.cpython-38.pyc', '__init__.cpython-38.pyc']\n",
      "\n",
      "Current path: C:\\Users\\saran\\PycharmProjects\\srjPython\\venv\\Lib\\site-packages\\pip\\_vendor\\requests\n",
      "Directories: ['__pycache__']\n",
      "Files ['adapters.py', 'api.py', 'auth.py', 'certs.py', 'compat.py', 'cookies.py', 'exceptions.py', 'help.py', 'hooks.py', 'models.py', 'packages.py', 'sessions.py', 'status_codes.py', 'structures.py', 'utils.py', '_internal_utils.py', '__init__.py', '__version__.py']\n",
      "\n",
      "Current path: C:\\Users\\saran\\PycharmProjects\\srjPython\\venv\\Lib\\site-packages\\pip\\_vendor\\requests\\__pycache__\n",
      "Directories: []\n",
      "Files ['adapters.cpython-38.pyc', 'api.cpython-38.pyc', 'auth.cpython-38.pyc', 'certs.cpython-38.pyc', 'compat.cpython-38.pyc', 'cookies.cpython-38.pyc', 'exceptions.cpython-38.pyc', 'help.cpython-38.pyc', 'hooks.cpython-38.pyc', 'models.cpython-38.pyc', 'packages.cpython-38.pyc', 'sessions.cpython-38.pyc', 'status_codes.cpython-38.pyc', 'structures.cpython-38.pyc', 'utils.cpython-38.pyc', '_internal_utils.cpython-38.pyc', '__init__.cpython-38.pyc', '__version__.cpython-38.pyc']\n",
      "\n",
      "Current path: C:\\Users\\saran\\PycharmProjects\\srjPython\\venv\\Lib\\site-packages\\pip\\_vendor\\resolvelib\n",
      "Directories: ['compat', '__pycache__']\n",
      "Files ['providers.py', 'reporters.py', 'resolvers.py', 'structs.py', '__init__.py']\n",
      "\n",
      "Current path: C:\\Users\\saran\\PycharmProjects\\srjPython\\venv\\Lib\\site-packages\\pip\\_vendor\\resolvelib\\compat\n",
      "Directories: ['__pycache__']\n",
      "Files ['collections_abc.py', '__init__.py']\n",
      "\n",
      "Current path: C:\\Users\\saran\\PycharmProjects\\srjPython\\venv\\Lib\\site-packages\\pip\\_vendor\\resolvelib\\compat\\__pycache__\n",
      "Directories: []\n",
      "Files ['collections_abc.cpython-38.pyc', '__init__.cpython-38.pyc']\n",
      "\n",
      "Current path: C:\\Users\\saran\\PycharmProjects\\srjPython\\venv\\Lib\\site-packages\\pip\\_vendor\\resolvelib\\__pycache__\n",
      "Directories: []\n",
      "Files ['providers.cpython-38.pyc', 'reporters.cpython-38.pyc', 'resolvers.cpython-38.pyc', 'structs.cpython-38.pyc', '__init__.cpython-38.pyc']\n",
      "\n",
      "Current path: C:\\Users\\saran\\PycharmProjects\\srjPython\\venv\\Lib\\site-packages\\pip\\_vendor\\tenacity\n",
      "Directories: ['__pycache__']\n",
      "Files ['after.py', 'before.py', 'before_sleep.py', 'compat.py', 'nap.py', 'retry.py', 'stop.py', 'tornadoweb.py', 'wait.py', '_asyncio.py', '_utils.py', '__init__.py']\n",
      "\n",
      "Current path: C:\\Users\\saran\\PycharmProjects\\srjPython\\venv\\Lib\\site-packages\\pip\\_vendor\\tenacity\\__pycache__\n",
      "Directories: []\n",
      "Files ['after.cpython-38.pyc', 'before.cpython-38.pyc', 'before_sleep.cpython-38.pyc', 'compat.cpython-38.pyc', 'nap.cpython-38.pyc', 'retry.cpython-38.pyc', 'stop.cpython-38.pyc', 'tornadoweb.cpython-38.pyc', 'wait.cpython-38.pyc', '_asyncio.cpython-38.pyc', '_utils.cpython-38.pyc', '__init__.cpython-38.pyc']\n",
      "\n",
      "Current path: C:\\Users\\saran\\PycharmProjects\\srjPython\\venv\\Lib\\site-packages\\pip\\_vendor\\toml\n",
      "Directories: ['__pycache__']\n",
      "Files ['decoder.py', 'encoder.py', 'ordered.py', 'tz.py', '__init__.py']\n",
      "\n",
      "Current path: C:\\Users\\saran\\PycharmProjects\\srjPython\\venv\\Lib\\site-packages\\pip\\_vendor\\toml\\__pycache__\n",
      "Directories: []\n",
      "Files ['decoder.cpython-38.pyc', 'encoder.cpython-38.pyc', 'ordered.cpython-38.pyc', 'tz.cpython-38.pyc', '__init__.cpython-38.pyc']\n",
      "\n",
      "Current path: C:\\Users\\saran\\PycharmProjects\\srjPython\\venv\\Lib\\site-packages\\pip\\_vendor\\urllib3\n",
      "Directories: ['contrib', 'packages', 'util', '__pycache__']\n",
      "Files ['connection.py', 'connectionpool.py', 'exceptions.py', 'fields.py', 'filepost.py', 'poolmanager.py', 'request.py', 'response.py', '_collections.py', '_version.py', '__init__.py']\n",
      "\n",
      "Current path: C:\\Users\\saran\\PycharmProjects\\srjPython\\venv\\Lib\\site-packages\\pip\\_vendor\\urllib3\\contrib\n",
      "Directories: ['_securetransport', '__pycache__']\n",
      "Files ['appengine.py', 'ntlmpool.py', 'pyopenssl.py', 'securetransport.py', 'socks.py', '_appengine_environ.py', '__init__.py']\n",
      "\n",
      "Current path: C:\\Users\\saran\\PycharmProjects\\srjPython\\venv\\Lib\\site-packages\\pip\\_vendor\\urllib3\\contrib\\_securetransport\n",
      "Directories: ['__pycache__']\n",
      "Files ['bindings.py', 'low_level.py', '__init__.py']\n",
      "\n",
      "Current path: C:\\Users\\saran\\PycharmProjects\\srjPython\\venv\\Lib\\site-packages\\pip\\_vendor\\urllib3\\contrib\\_securetransport\\__pycache__\n",
      "Directories: []\n",
      "Files ['bindings.cpython-38.pyc', 'low_level.cpython-38.pyc', '__init__.cpython-38.pyc']\n",
      "\n",
      "Current path: C:\\Users\\saran\\PycharmProjects\\srjPython\\venv\\Lib\\site-packages\\pip\\_vendor\\urllib3\\contrib\\__pycache__\n",
      "Directories: []\n",
      "Files ['appengine.cpython-38.pyc', 'ntlmpool.cpython-38.pyc', 'pyopenssl.cpython-38.pyc', 'securetransport.cpython-38.pyc', 'socks.cpython-38.pyc', '_appengine_environ.cpython-38.pyc', '__init__.cpython-38.pyc']\n",
      "\n",
      "Current path: C:\\Users\\saran\\PycharmProjects\\srjPython\\venv\\Lib\\site-packages\\pip\\_vendor\\urllib3\\packages\n",
      "Directories: ['backports', 'ssl_match_hostname', '__pycache__']\n",
      "Files ['six.py', '__init__.py']\n",
      "\n",
      "Current path: C:\\Users\\saran\\PycharmProjects\\srjPython\\venv\\Lib\\site-packages\\pip\\_vendor\\urllib3\\packages\\backports\n",
      "Directories: ['__pycache__']\n",
      "Files ['makefile.py', '__init__.py']\n",
      "\n",
      "Current path: C:\\Users\\saran\\PycharmProjects\\srjPython\\venv\\Lib\\site-packages\\pip\\_vendor\\urllib3\\packages\\backports\\__pycache__\n",
      "Directories: []\n",
      "Files ['makefile.cpython-38.pyc', '__init__.cpython-38.pyc']\n",
      "\n",
      "Current path: C:\\Users\\saran\\PycharmProjects\\srjPython\\venv\\Lib\\site-packages\\pip\\_vendor\\urllib3\\packages\\ssl_match_hostname\n",
      "Directories: ['__pycache__']\n",
      "Files ['_implementation.py', '__init__.py']\n",
      "\n",
      "Current path: C:\\Users\\saran\\PycharmProjects\\srjPython\\venv\\Lib\\site-packages\\pip\\_vendor\\urllib3\\packages\\ssl_match_hostname\\__pycache__\n",
      "Directories: []\n",
      "Files ['_implementation.cpython-38.pyc', '__init__.cpython-38.pyc']\n",
      "\n",
      "Current path: C:\\Users\\saran\\PycharmProjects\\srjPython\\venv\\Lib\\site-packages\\pip\\_vendor\\urllib3\\packages\\__pycache__\n",
      "Directories: []\n",
      "Files ['six.cpython-38.pyc', '__init__.cpython-38.pyc']\n",
      "\n",
      "Current path: C:\\Users\\saran\\PycharmProjects\\srjPython\\venv\\Lib\\site-packages\\pip\\_vendor\\urllib3\\util\n",
      "Directories: ['__pycache__']\n",
      "Files ['connection.py', 'proxy.py', 'queue.py', 'request.py', 'response.py', 'retry.py', 'ssltransport.py', 'ssl_.py', 'timeout.py', 'url.py', 'wait.py', '__init__.py']\n",
      "\n",
      "Current path: C:\\Users\\saran\\PycharmProjects\\srjPython\\venv\\Lib\\site-packages\\pip\\_vendor\\urllib3\\util\\__pycache__\n",
      "Directories: []\n",
      "Files ['connection.cpython-38.pyc', 'proxy.cpython-38.pyc', 'queue.cpython-38.pyc', 'request.cpython-38.pyc', 'response.cpython-38.pyc', 'retry.cpython-38.pyc', 'ssltransport.cpython-38.pyc', 'ssl_.cpython-38.pyc', 'timeout.cpython-38.pyc', 'url.cpython-38.pyc', 'wait.cpython-38.pyc', '__init__.cpython-38.pyc']\n",
      "\n",
      "Current path: C:\\Users\\saran\\PycharmProjects\\srjPython\\venv\\Lib\\site-packages\\pip\\_vendor\\urllib3\\__pycache__\n",
      "Directories: []\n",
      "Files ['connection.cpython-38.pyc', 'connectionpool.cpython-38.pyc', 'exceptions.cpython-38.pyc', 'fields.cpython-38.pyc', 'filepost.cpython-38.pyc', 'poolmanager.cpython-38.pyc', 'request.cpython-38.pyc', 'response.cpython-38.pyc', '_collections.cpython-38.pyc', '_version.cpython-38.pyc', '__init__.cpython-38.pyc']\n",
      "\n",
      "Current path: C:\\Users\\saran\\PycharmProjects\\srjPython\\venv\\Lib\\site-packages\\pip\\_vendor\\webencodings\n",
      "Directories: ['__pycache__']\n",
      "Files ['labels.py', 'mklabels.py', 'tests.py', 'x_user_defined.py', '__init__.py']\n",
      "\n",
      "Current path: C:\\Users\\saran\\PycharmProjects\\srjPython\\venv\\Lib\\site-packages\\pip\\_vendor\\webencodings\\__pycache__\n",
      "Directories: []\n",
      "Files ['labels.cpython-38.pyc', 'mklabels.cpython-38.pyc', 'tests.cpython-38.pyc', 'x_user_defined.cpython-38.pyc', '__init__.cpython-38.pyc']\n",
      "\n",
      "Current path: C:\\Users\\saran\\PycharmProjects\\srjPython\\venv\\Lib\\site-packages\\pip\\_vendor\\__pycache__\n",
      "Directories: []\n",
      "Files ['appdirs.cpython-38.pyc', 'distro.cpython-38.pyc', 'pyparsing.cpython-38.pyc', 'six.cpython-38.pyc', '__init__.cpython-38.pyc']\n",
      "\n",
      "Current path: C:\\Users\\saran\\PycharmProjects\\srjPython\\venv\\Lib\\site-packages\\pip\\__pycache__\n",
      "Directories: []\n",
      "Files ['__init__.cpython-38.pyc', '__main__.cpython-38.pyc']\n",
      "\n",
      "Current path: C:\\Users\\saran\\PycharmProjects\\srjPython\\venv\\Lib\\site-packages\\pip-21.1.2.dist-info\n",
      "Directories: []\n",
      "Files ['entry_points.txt', 'INSTALLER', 'LICENSE.txt', 'METADATA', 'RECORD', 'top_level.txt', 'WHEEL']\n",
      "\n",
      "Current path: C:\\Users\\saran\\PycharmProjects\\srjPython\\venv\\Lib\\site-packages\\pkg_resources\n",
      "Directories: ['extern', 'tests', '_vendor', '__pycache__']\n",
      "Files ['__init__.py']\n",
      "\n",
      "Current path: C:\\Users\\saran\\PycharmProjects\\srjPython\\venv\\Lib\\site-packages\\pkg_resources\\extern\n",
      "Directories: ['__pycache__']\n",
      "Files ['__init__.py']\n",
      "\n",
      "Current path: C:\\Users\\saran\\PycharmProjects\\srjPython\\venv\\Lib\\site-packages\\pkg_resources\\extern\\__pycache__\n",
      "Directories: []\n",
      "Files ['__init__.cpython-38.pyc']\n",
      "\n",
      "Current path: C:\\Users\\saran\\PycharmProjects\\srjPython\\venv\\Lib\\site-packages\\pkg_resources\\tests\n",
      "Directories: ['data']\n",
      "Files []\n",
      "\n",
      "Current path: C:\\Users\\saran\\PycharmProjects\\srjPython\\venv\\Lib\\site-packages\\pkg_resources\\tests\\data\n",
      "Directories: ['my-test-package-source']\n",
      "Files []\n",
      "\n",
      "Current path: C:\\Users\\saran\\PycharmProjects\\srjPython\\venv\\Lib\\site-packages\\pkg_resources\\tests\\data\\my-test-package-source\n",
      "Directories: ['__pycache__']\n",
      "Files ['setup.py']\n",
      "\n",
      "Current path: C:\\Users\\saran\\PycharmProjects\\srjPython\\venv\\Lib\\site-packages\\pkg_resources\\tests\\data\\my-test-package-source\\__pycache__\n",
      "Directories: []\n",
      "Files ['setup.cpython-38.pyc']\n",
      "\n",
      "Current path: C:\\Users\\saran\\PycharmProjects\\srjPython\\venv\\Lib\\site-packages\\pkg_resources\\_vendor\n",
      "Directories: ['packaging', '__pycache__']\n",
      "Files ['appdirs.py', 'pyparsing.py', '__init__.py']\n",
      "\n",
      "Current path: C:\\Users\\saran\\PycharmProjects\\srjPython\\venv\\Lib\\site-packages\\pkg_resources\\_vendor\\packaging\n",
      "Directories: ['__pycache__']\n",
      "Files ['markers.py', 'requirements.py', 'specifiers.py', 'tags.py', 'utils.py', 'version.py', '_compat.py', '_structures.py', '_typing.py', '__about__.py', '__init__.py']\n",
      "\n",
      "Current path: C:\\Users\\saran\\PycharmProjects\\srjPython\\venv\\Lib\\site-packages\\pkg_resources\\_vendor\\packaging\\__pycache__\n",
      "Directories: []\n",
      "Files ['markers.cpython-38.pyc', 'requirements.cpython-38.pyc', 'specifiers.cpython-38.pyc', 'tags.cpython-38.pyc', 'utils.cpython-38.pyc', 'version.cpython-38.pyc', '_compat.cpython-38.pyc', '_structures.cpython-38.pyc', '_typing.cpython-38.pyc', '__about__.cpython-38.pyc', '__init__.cpython-38.pyc']\n",
      "\n",
      "Current path: C:\\Users\\saran\\PycharmProjects\\srjPython\\venv\\Lib\\site-packages\\pkg_resources\\_vendor\\__pycache__\n",
      "Directories: []\n",
      "Files ['appdirs.cpython-38.pyc', 'pyparsing.cpython-38.pyc', '__init__.cpython-38.pyc']\n",
      "\n",
      "Current path: C:\\Users\\saran\\PycharmProjects\\srjPython\\venv\\Lib\\site-packages\\pkg_resources\\__pycache__\n",
      "Directories: []\n",
      "Files ['__init__.cpython-38.pyc']\n",
      "\n",
      "Current path: C:\\Users\\saran\\PycharmProjects\\srjPython\\venv\\Lib\\site-packages\\setuptools\n",
      "Directories: ['command', 'extern', '_distutils', '_vendor', '__pycache__']\n",
      "Files ['archive_util.py', 'build_meta.py', 'cli-32.exe', 'cli-64.exe', 'cli.exe', 'config.py', 'depends.py', 'dep_util.py', 'dist.py', 'errors.py', 'extension.py', 'glob.py', 'gui-32.exe', 'gui-64.exe', 'gui.exe', 'installer.py', 'launch.py', 'lib2to3_ex.py', 'monkey.py', 'msvc.py', 'namespaces.py', 'package_index.py', 'py34compat.py', 'sandbox.py', 'script (dev).tmpl', 'script.tmpl', 'ssl_support.py', 'unicode_utils.py', 'version.py', 'wheel.py', 'windows_support.py', '_deprecation_warning.py', '_imp.py', '__init__.py']\n",
      "\n",
      "Current path: C:\\Users\\saran\\PycharmProjects\\srjPython\\venv\\Lib\\site-packages\\setuptools\\command\n",
      "Directories: ['__pycache__']\n",
      "Files ['alias.py', 'bdist_egg.py', 'bdist_rpm.py', 'build_clib.py', 'build_ext.py', 'build_py.py', 'develop.py', 'dist_info.py', 'easy_install.py', 'egg_info.py', 'install.py', 'install_egg_info.py', 'install_lib.py', 'install_scripts.py', 'launcher manifest.xml', 'py36compat.py', 'register.py', 'rotate.py', 'saveopts.py', 'sdist.py', 'setopt.py', 'test.py', 'upload.py', 'upload_docs.py', '__init__.py']\n",
      "\n",
      "Current path: C:\\Users\\saran\\PycharmProjects\\srjPython\\venv\\Lib\\site-packages\\setuptools\\command\\__pycache__\n",
      "Directories: []\n",
      "Files ['alias.cpython-38.pyc', 'bdist_egg.cpython-38.pyc', 'bdist_rpm.cpython-38.pyc', 'build_clib.cpython-38.pyc', 'build_ext.cpython-38.pyc', 'build_py.cpython-38.pyc', 'develop.cpython-38.pyc', 'dist_info.cpython-38.pyc', 'easy_install.cpython-38.pyc', 'egg_info.cpython-38.pyc', 'install.cpython-38.pyc', 'install_egg_info.cpython-38.pyc', 'install_lib.cpython-38.pyc', 'install_scripts.cpython-38.pyc', 'py36compat.cpython-38.pyc', 'register.cpython-38.pyc', 'rotate.cpython-38.pyc', 'saveopts.cpython-38.pyc', 'sdist.cpython-38.pyc', 'setopt.cpython-38.pyc', 'test.cpython-38.pyc', 'upload.cpython-38.pyc', 'upload_docs.cpython-38.pyc', '__init__.cpython-38.pyc']\n",
      "\n",
      "Current path: C:\\Users\\saran\\PycharmProjects\\srjPython\\venv\\Lib\\site-packages\\setuptools\\extern\n",
      "Directories: ['__pycache__']\n",
      "Files ['__init__.py']\n",
      "\n",
      "Current path: C:\\Users\\saran\\PycharmProjects\\srjPython\\venv\\Lib\\site-packages\\setuptools\\extern\\__pycache__\n",
      "Directories: []\n",
      "Files ['__init__.cpython-38.pyc']\n",
      "\n",
      "Current path: C:\\Users\\saran\\PycharmProjects\\srjPython\\venv\\Lib\\site-packages\\setuptools\\_distutils\n",
      "Directories: ['command', '__pycache__']\n",
      "Files ['archive_util.py', 'bcppcompiler.py', 'ccompiler.py', 'cmd.py', 'config.py', 'core.py', 'cygwinccompiler.py', 'debug.py', 'dep_util.py', 'dir_util.py', 'dist.py', 'errors.py', 'extension.py', 'fancy_getopt.py', 'filelist.py', 'file_util.py', 'log.py', 'msvc9compiler.py', 'msvccompiler.py', 'py35compat.py', 'py38compat.py', 'spawn.py', 'sysconfig.py', 'text_file.py', 'unixccompiler.py', 'util.py', 'version.py', 'versionpredicate.py', '_msvccompiler.py', '__init__.py']\n",
      "\n",
      "Current path: C:\\Users\\saran\\PycharmProjects\\srjPython\\venv\\Lib\\site-packages\\setuptools\\_distutils\\command\n",
      "Directories: ['__pycache__']\n",
      "Files ['bdist.py', 'bdist_dumb.py', 'bdist_msi.py', 'bdist_rpm.py', 'bdist_wininst.py', 'build.py', 'build_clib.py', 'build_ext.py', 'build_py.py', 'build_scripts.py', 'check.py', 'clean.py', 'config.py', 'install.py', 'install_data.py', 'install_egg_info.py', 'install_headers.py', 'install_lib.py', 'install_scripts.py', 'py37compat.py', 'register.py', 'sdist.py', 'upload.py', '__init__.py']\n",
      "\n",
      "Current path: C:\\Users\\saran\\PycharmProjects\\srjPython\\venv\\Lib\\site-packages\\setuptools\\_distutils\\command\\__pycache__\n",
      "Directories: []\n",
      "Files ['bdist.cpython-38.pyc', 'bdist_dumb.cpython-38.pyc', 'bdist_msi.cpython-38.pyc', 'bdist_rpm.cpython-38.pyc', 'bdist_wininst.cpython-38.pyc', 'build.cpython-38.pyc', 'build_clib.cpython-38.pyc', 'build_ext.cpython-38.pyc', 'build_py.cpython-38.pyc', 'build_scripts.cpython-38.pyc', 'check.cpython-38.pyc', 'clean.cpython-38.pyc', 'config.cpython-38.pyc', 'install.cpython-38.pyc', 'install_data.cpython-38.pyc', 'install_egg_info.cpython-38.pyc', 'install_headers.cpython-38.pyc', 'install_lib.cpython-38.pyc', 'install_scripts.cpython-38.pyc', 'py37compat.cpython-38.pyc', 'register.cpython-38.pyc', 'sdist.cpython-38.pyc', 'upload.cpython-38.pyc', '__init__.cpython-38.pyc']\n",
      "\n",
      "Current path: C:\\Users\\saran\\PycharmProjects\\srjPython\\venv\\Lib\\site-packages\\setuptools\\_distutils\\__pycache__\n",
      "Directories: []\n",
      "Files ['archive_util.cpython-38.pyc', 'bcppcompiler.cpython-38.pyc', 'ccompiler.cpython-38.pyc', 'cmd.cpython-38.pyc', 'config.cpython-38.pyc', 'core.cpython-38.pyc', 'cygwinccompiler.cpython-38.pyc', 'debug.cpython-38.pyc', 'dep_util.cpython-38.pyc', 'dir_util.cpython-38.pyc', 'dist.cpython-38.pyc', 'errors.cpython-38.pyc', 'extension.cpython-38.pyc', 'fancy_getopt.cpython-38.pyc', 'filelist.cpython-38.pyc', 'file_util.cpython-38.pyc', 'log.cpython-38.pyc', 'msvc9compiler.cpython-38.pyc', 'msvccompiler.cpython-38.pyc', 'py35compat.cpython-38.pyc', 'py38compat.cpython-38.pyc', 'spawn.cpython-38.pyc', 'sysconfig.cpython-38.pyc', 'text_file.cpython-38.pyc', 'unixccompiler.cpython-38.pyc', 'util.cpython-38.pyc', 'version.cpython-38.pyc', 'versionpredicate.cpython-38.pyc', '_msvccompiler.cpython-38.pyc', '__init__.cpython-38.pyc']\n",
      "\n",
      "Current path: C:\\Users\\saran\\PycharmProjects\\srjPython\\venv\\Lib\\site-packages\\setuptools\\_vendor\n",
      "Directories: ['more_itertools', 'packaging', '__pycache__']\n",
      "Files ['ordered_set.py', 'pyparsing.py', '__init__.py']\n",
      "\n",
      "Current path: C:\\Users\\saran\\PycharmProjects\\srjPython\\venv\\Lib\\site-packages\\setuptools\\_vendor\\more_itertools\n",
      "Directories: ['__pycache__']\n",
      "Files ['more.py', 'recipes.py', '__init__.py']\n",
      "\n",
      "Current path: C:\\Users\\saran\\PycharmProjects\\srjPython\\venv\\Lib\\site-packages\\setuptools\\_vendor\\more_itertools\\__pycache__\n",
      "Directories: []\n",
      "Files ['more.cpython-38.pyc', 'recipes.cpython-38.pyc', '__init__.cpython-38.pyc']\n",
      "\n",
      "Current path: C:\\Users\\saran\\PycharmProjects\\srjPython\\venv\\Lib\\site-packages\\setuptools\\_vendor\\packaging\n",
      "Directories: ['__pycache__']\n",
      "Files ['markers.py', 'requirements.py', 'specifiers.py', 'tags.py', 'utils.py', 'version.py', '_compat.py', '_structures.py', '_typing.py', '__about__.py', '__init__.py']\n",
      "\n",
      "Current path: C:\\Users\\saran\\PycharmProjects\\srjPython\\venv\\Lib\\site-packages\\setuptools\\_vendor\\packaging\\__pycache__\n",
      "Directories: []\n",
      "Files ['markers.cpython-38.pyc', 'requirements.cpython-38.pyc', 'specifiers.cpython-38.pyc', 'tags.cpython-38.pyc', 'utils.cpython-38.pyc', 'version.cpython-38.pyc', '_compat.cpython-38.pyc', '_structures.cpython-38.pyc', '_typing.cpython-38.pyc', '__about__.cpython-38.pyc', '__init__.cpython-38.pyc']\n",
      "\n",
      "Current path: C:\\Users\\saran\\PycharmProjects\\srjPython\\venv\\Lib\\site-packages\\setuptools\\_vendor\\__pycache__\n",
      "Directories: []\n",
      "Files ['ordered_set.cpython-38.pyc', 'pyparsing.cpython-38.pyc', '__init__.cpython-38.pyc']\n",
      "\n",
      "Current path: C:\\Users\\saran\\PycharmProjects\\srjPython\\venv\\Lib\\site-packages\\setuptools\\__pycache__\n",
      "Directories: []\n",
      "Files ['archive_util.cpython-38.pyc', 'build_meta.cpython-38.pyc', 'config.cpython-38.pyc', 'depends.cpython-38.pyc', 'dep_util.cpython-38.pyc', 'dist.cpython-38.pyc', 'errors.cpython-38.pyc', 'extension.cpython-38.pyc', 'glob.cpython-38.pyc', 'installer.cpython-38.pyc', 'launch.cpython-38.pyc', 'lib2to3_ex.cpython-38.pyc', 'monkey.cpython-38.pyc', 'msvc.cpython-38.pyc', 'namespaces.cpython-38.pyc', 'package_index.cpython-38.pyc', 'py34compat.cpython-38.pyc', 'sandbox.cpython-38.pyc', 'ssl_support.cpython-38.pyc', 'unicode_utils.cpython-38.pyc', 'version.cpython-38.pyc', 'wheel.cpython-38.pyc', 'windows_support.cpython-38.pyc', '_deprecation_warning.cpython-38.pyc', '_imp.cpython-38.pyc', '__init__.cpython-38.pyc']\n",
      "\n",
      "Current path: C:\\Users\\saran\\PycharmProjects\\srjPython\\venv\\Lib\\site-packages\\setuptools-57.0.0.dist-info\n",
      "Directories: []\n",
      "Files ['dependency_links.txt', 'entry_points.txt', 'INSTALLER', 'LICENSE', 'METADATA', 'RECORD', 'top_level.txt', 'WHEEL']\n",
      "\n",
      "Current path: C:\\Users\\saran\\PycharmProjects\\srjPython\\venv\\Lib\\site-packages\\_distutils_hack\n",
      "Directories: ['__pycache__']\n",
      "Files ['override.py', '__init__.py']\n",
      "\n",
      "Current path: C:\\Users\\saran\\PycharmProjects\\srjPython\\venv\\Lib\\site-packages\\_distutils_hack\\__pycache__\n",
      "Directories: []\n",
      "Files ['override.cpython-38.pyc', '__init__.cpython-38.pyc']\n",
      "\n",
      "Current path: C:\\Users\\saran\\PycharmProjects\\srjPython\\venv\\Scripts\n",
      "Directories: []\n",
      "Files ['activate', 'activate.bat', 'Activate.ps1', 'deactivate.bat', 'pip.exe', 'pip3.8.exe', 'pip3.exe', 'python.exe', 'pythonw.exe']\n",
      "\n"
     ]
    }
   ],
   "source": [
    "# To print the entire directory tree or traverse the directory \n",
    "for dirpath, dirnames, filenames in os.walk('C:\\\\Users\\\\saran\\\\PycharmProjects\\\\srjPython\\\\'):  # Walk is a Generator which yields a tuple\n",
    "    print('Current path:', dirpath)\n",
    "    print('Directories:', dirnames)\n",
    "    print('Files', filenames)\n",
    "    print()"
   ]
  },
  {
   "cell_type": "code",
   "execution_count": 27,
   "metadata": {},
   "outputs": [
    {
     "name": "stdout",
     "output_type": "stream",
     "text": [
      "environ({'ALLUSERSPROFILE': 'C:\\\\ProgramData', 'APPDATA': 'C:\\\\Users\\\\saran\\\\AppData\\\\Roaming', 'CHOCOLATEYINSTALL': 'C:\\\\ProgramData\\\\chocolatey', 'CHOCOLATEYLASTPATHUPDATE': '132471484743967566', 'COMMONPROGRAMFILES': 'C:\\\\Program Files (x86)\\\\Common Files', 'COMMONPROGRAMFILES(X86)': 'C:\\\\Program Files (x86)\\\\Common Files', 'COMMONPROGRAMW6432': 'C:\\\\Program Files\\\\Common Files', 'COMPUTERNAME': 'SARANPC', 'COMSPEC': 'C:\\\\WINDOWS\\\\system32\\\\cmd.exe', 'CONDA_DEFAULT_ENV': 'base', 'CONDA_EXE': 'C:\\\\Users\\\\saran\\\\anaconda3\\\\Scripts\\\\conda.exe', 'CONDA_PROMPT_MODIFIER': '(base) ', 'CONDA_PYTHON_EXE': 'C:\\\\Users\\\\saran\\\\anaconda3\\\\python.exe', 'CONDA_ROOT': 'C:\\\\Users\\\\saran\\\\anaconda3', 'CONDA_SHLVL': '1', 'DRIVERDATA': 'C:\\\\Windows\\\\System32\\\\Drivers\\\\DriverData', 'HOMEDRIVE': 'C:', 'HOMEPATH': '\\\\Users\\\\saran', 'LOCALAPPDATA': 'C:\\\\Users\\\\saran\\\\AppData\\\\Local', 'LOGONSERVER': '\\\\\\\\SARANPC', 'NUMBER_OF_PROCESSORS': '16', 'ONEDRIVE': 'C:\\\\Users\\\\saran\\\\OneDrive', 'ONEDRIVECONSUMER': 'C:\\\\Users\\\\saran\\\\OneDrive', 'OS': 'Windows_NT', 'PATH': 'C:\\\\Users\\\\saran\\\\anaconda3;C:\\\\Users\\\\saran\\\\anaconda3\\\\Library\\\\mingw-w64\\\\bin;C:\\\\Users\\\\saran\\\\anaconda3\\\\Library\\\\usr\\\\bin;C:\\\\Users\\\\saran\\\\anaconda3\\\\Library\\\\bin;C:\\\\Users\\\\saran\\\\anaconda3\\\\Scripts;C:\\\\Users\\\\saran\\\\anaconda3\\\\bin;C:\\\\Users\\\\saran\\\\anaconda3\\\\condabin;C:\\\\Users\\\\saran\\\\anaconda3;C:\\\\Users\\\\saran\\\\anaconda3\\\\Library\\\\mingw-w64\\\\bin;C:\\\\Users\\\\saran\\\\anaconda3\\\\Library\\\\usr\\\\bin;C:\\\\Users\\\\saran\\\\anaconda3\\\\Library\\\\bin;C:\\\\Users\\\\saran\\\\anaconda3\\\\Scripts;C:\\\\Windows\\\\system32;C:\\\\Windows;C:\\\\Windows\\\\System32\\\\Wbem;C:\\\\Windows\\\\System32\\\\WindowsPowerShell\\\\v1.0;C:\\\\Windows\\\\System32\\\\OpenSSH;C:\\\\Program Files (x86)\\\\NVIDIA Corporation\\\\PhysX\\\\Common;C:\\\\Program Files\\\\NVIDIA Corporation\\\\NVIDIA NvDLISR;C:\\\\WINDOWS\\\\system32;C:\\\\WINDOWS;C:\\\\WINDOWS\\\\System32\\\\Wbem;C:\\\\WINDOWS\\\\System32\\\\WindowsPowerShell\\\\v1.0;C:\\\\WINDOWS\\\\System32\\\\OpenSSH;C:\\\\HashiCorp\\\\Vagrant\\\\bin;C:\\\\ProgramData\\\\chocolatey\\\\bin;C:\\\\Program Files\\\\Git\\\\cmd;C:\\\\Program Files\\\\Amazon\\\\AWSCLIV2;C:\\\\Users\\\\saran\\\\anaconda3;C:\\\\Users\\\\saran\\\\anaconda3\\\\Library\\\\mingw-w64\\\\bin;C:\\\\Users\\\\saran\\\\anaconda3\\\\Library\\\\usr\\\\bin;C:\\\\Users\\\\saran\\\\anaconda3\\\\Library\\\\bin;C:\\\\Users\\\\saran\\\\anaconda3\\\\Scripts;C:\\\\Users\\\\saran\\\\AppData\\\\Local\\\\Microsoft\\\\WindowsApps;C:\\\\Users\\\\saran\\\\AppData\\\\Local\\\\Programs\\\\Microsoft VS Code\\\\bin;C:\\\\Program Files\\\\mingw-w64\\\\x86_64-8.1.0-posix-seh-rt_v6-rev0\\\\mingw64\\\\bin;C:\\\\Program Files\\\\JetBrains\\\\PyCharm Community Edition 2020.2.3\\\\bin;C:\\\\Users\\\\saran\\\\AppData\\\\Local\\\\atom\\\\bin', 'PATHEXT': '.COM;.EXE;.BAT;.CMD;.VBS;.VBE;.JS;.JSE;.WSF;.WSH;.MSC', 'PROCESSOR_ARCHITECTURE': 'x86', 'PROCESSOR_ARCHITEW6432': 'AMD64', 'PROCESSOR_IDENTIFIER': 'AMD64 Family 23 Model 113 Stepping 0, AuthenticAMD', 'PROCESSOR_LEVEL': '23', 'PROCESSOR_REVISION': '7100', 'PROGRAMDATA': 'C:\\\\ProgramData', 'PROGRAMFILES': 'C:\\\\Program Files (x86)', 'PROGRAMFILES(X86)': 'C:\\\\Program Files (x86)', 'PROGRAMW6432': 'C:\\\\Program Files', 'PROMPT': '(base) $P$G', 'PSMODULEPATH': 'C:\\\\Program Files\\\\WindowsPowerShell\\\\Modules;C:\\\\WINDOWS\\\\system32\\\\WindowsPowerShell\\\\v1.0\\\\Modules', 'PUBLIC': 'C:\\\\Users\\\\Public', 'PYCHARM COMMUNITY EDITION': 'C:\\\\Program Files\\\\JetBrains\\\\PyCharm Community Edition 2020.2.3\\\\bin;', 'SESSIONNAME': 'Console', 'SYSTEMDRIVE': 'C:', 'SYSTEMROOT': 'C:\\\\WINDOWS', 'TEMP': 'C:\\\\Users\\\\saran\\\\AppData\\\\Local\\\\Temp', 'TMP': 'C:\\\\Users\\\\saran\\\\AppData\\\\Local\\\\Temp', 'USERDOMAIN': 'SARANPC', 'USERDOMAIN_ROAMINGPROFILE': 'SARANPC', 'USERNAME': 'saran', 'USERPROFILE': 'C:\\\\Users\\\\saran', 'VBOX_MSI_INSTALL_PATH': 'C:\\\\Program Files\\\\Oracle\\\\VirtualBox\\\\', 'WINDIR': 'C:\\\\WINDOWS', 'CONDA_PREFIX': 'C:\\\\Users\\\\saran\\\\anaconda3', 'JPY_INTERRUPT_EVENT': '2368', 'IPY_INTERRUPT_EVENT': '2368', 'JPY_PARENT_PID': '1188', 'TERM': 'xterm-color', 'CLICOLOR': '1', 'PAGER': 'cat', 'GIT_PAGER': 'cat', 'MPLBACKEND': 'module://ipykernel.pylab.backend_inline'})\n"
     ]
    }
   ],
   "source": [
    "# to get the env variable\n",
    "print(os.environ)"
   ]
  },
  {
   "cell_type": "code",
   "execution_count": 29,
   "metadata": {},
   "outputs": [
    {
     "name": "stdout",
     "output_type": "stream",
     "text": [
      "C:\\Users\\saran\\anaconda3\n"
     ]
    }
   ],
   "source": [
    "print(os.environ.get('CONDA_PREFIX')) # to get the specific environment variable"
   ]
  },
  {
   "cell_type": "code",
   "execution_count": 30,
   "metadata": {},
   "outputs": [
    {
     "name": "stdout",
     "output_type": "stream",
     "text": [
      "Temp folder env variable is \n",
      "C:\\Users\\saran\\AppData\\Local\\Temptest.txt\n"
     ]
    }
   ],
   "source": [
    "# To manipulate the environment variable\n",
    "print('Temp folder env variable is '.format(os.environ.get('TEMP')))\n",
    "file_path = os.environ.get('TEMP') + 'test.txt' # sometimes the leading and trailing slash or backslash will be prone to err as shown below\n",
    "print(file_path)\n",
    "\n"
   ]
  },
  {
   "cell_type": "code",
   "execution_count": 31,
   "metadata": {},
   "outputs": [
    {
     "name": "stdout",
     "output_type": "stream",
     "text": [
      "C:\\Users\\saran\\AppData\\Local\\Temp\\test.txt\n"
     ]
    }
   ],
   "source": [
    "# To avoid the syntax error we can make use of os.path module to concatenate the path correctly\n",
    "file_path = os.path.join(os.environ.get('TEMP'), 'test.txt')\n",
    "print(file_path)"
   ]
  },
  {
   "cell_type": "code",
   "execution_count": 32,
   "metadata": {},
   "outputs": [
    {
     "name": "stdout",
     "output_type": "stream",
     "text": [
      "test.txt\n"
     ]
    }
   ],
   "source": [
    "# To get only the file name from the absolute path \n",
    "print(os.path.basename('C:\\\\Users\\\\saran\\\\AppData\\\\Local\\\\Temp\\\\test.txt'))"
   ]
  },
  {
   "cell_type": "code",
   "execution_count": 33,
   "metadata": {},
   "outputs": [
    {
     "name": "stdout",
     "output_type": "stream",
     "text": [
      "C:\\Users\\saran\\AppData\\Local\\Temp\n"
     ]
    }
   ],
   "source": [
    "# To get only the dir name from the absolute path\n",
    "print(os.path.dirname('C:\\\\Users\\\\saran\\\\AppData\\\\Local\\\\Temp\\\\test.txt'))"
   ]
  },
  {
   "cell_type": "code",
   "execution_count": 34,
   "metadata": {},
   "outputs": [
    {
     "name": "stdout",
     "output_type": "stream",
     "text": [
      "('C:\\\\Users\\\\saran\\\\AppData\\\\Local\\\\Temp', 'test.txt')\n"
     ]
    }
   ],
   "source": [
    "# To get both the base name and dir name \n",
    "print(os.path.split('C:\\\\Users\\\\saran\\\\AppData\\\\Local\\\\Temp\\\\test.txt'))"
   ]
  },
  {
   "cell_type": "code",
   "execution_count": 35,
   "metadata": {},
   "outputs": [
    {
     "name": "stdout",
     "output_type": "stream",
     "text": [
      "False\n"
     ]
    }
   ],
   "source": [
    "# To check if the path exists\n",
    "print(os.path.exists('unknownopath\\\\xyz.txt'))"
   ]
  },
  {
   "cell_type": "code",
   "execution_count": 36,
   "metadata": {},
   "outputs": [
    {
     "name": "stdout",
     "output_type": "stream",
     "text": [
      "True\n"
     ]
    }
   ],
   "source": [
    "# To check if its directory \n",
    "print(os.path.isdir('C:\\\\Users\\\\saran\\\\AppData\\\\Local\\\\Temp'))"
   ]
  },
  {
   "cell_type": "code",
   "execution_count": 40,
   "metadata": {},
   "outputs": [
    {
     "name": "stdout",
     "output_type": "stream",
     "text": [
      "True\n"
     ]
    }
   ],
   "source": [
    "# To check if its a file\n",
    "print(os.path.isfile('C:\\\\Users\\\\saran\\\\PycharmProjects\\\\srjPython\\\\main.py'))"
   ]
  },
  {
   "cell_type": "code",
   "execution_count": 41,
   "metadata": {},
   "outputs": [
    {
     "name": "stdout",
     "output_type": "stream",
     "text": [
      "('C:\\\\Users\\\\saran\\\\PycharmProjects\\\\srjPython\\\\main', '.py')\n"
     ]
    }
   ],
   "source": [
    "# To get the file extension \n",
    "print(os.path.splitext('C:\\\\Users\\\\saran\\\\PycharmProjects\\\\srjPython\\\\main.py'))"
   ]
  },
  {
   "cell_type": "code",
   "execution_count": 42,
   "metadata": {},
   "outputs": [
    {
     "name": "stdout",
     "output_type": "stream",
     "text": [
      "['__all__', '__builtins__', '__cached__', '__doc__', '__file__', '__loader__', '__name__', '__package__', '__spec__', '_abspath_fallback', '_get_bothseps', '_getfinalpathname', '_getfinalpathname_nonstrict', '_getfullpathname', '_getvolumepathname', '_nt_readlink', '_readlink_deep', 'abspath', 'altsep', 'basename', 'commonpath', 'commonprefix', 'curdir', 'defpath', 'devnull', 'dirname', 'exists', 'expanduser', 'expandvars', 'extsep', 'genericpath', 'getatime', 'getctime', 'getmtime', 'getsize', 'isabs', 'isdir', 'isfile', 'islink', 'ismount', 'join', 'lexists', 'normcase', 'normpath', 'os', 'pardir', 'pathsep', 'realpath', 'relpath', 'samefile', 'sameopenfile', 'samestat', 'sep', 'split', 'splitdrive', 'splitext', 'stat', 'supports_unicode_filenames', 'sys']\n"
     ]
    }
   ],
   "source": [
    "print(dir(os.path))"
   ]
  },
  {
   "cell_type": "code",
   "execution_count": null,
   "metadata": {},
   "outputs": [],
   "source": []
  }
 ],
 "metadata": {
  "kernelspec": {
   "display_name": "Python 3",
   "language": "python",
   "name": "python3"
  },
  "language_info": {
   "codemirror_mode": {
    "name": "ipython",
    "version": 3
   },
   "file_extension": ".py",
   "mimetype": "text/x-python",
   "name": "python",
   "nbconvert_exporter": "python",
   "pygments_lexer": "ipython3",
   "version": "3.8.5"
  }
 },
 "nbformat": 4,
 "nbformat_minor": 4
}
