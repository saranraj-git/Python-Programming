{
 "cells": [
  {
   "cell_type": "markdown",
   "metadata": {},
   "source": [
    "\"\"\"\n",
    "#!/usr/bin/env python3\n",
    "\"\"\"\n",
    "\n",
    "Reference from : https://learn.acloud.guru/course/167515da-d23b-49e6-9919-4d0c23e7fc1c/learn/2f75be4b-b650-4fd8-8272-7d68a400185b/ab38548e-81e4-4538-8731-85bd9d30b4f8/watch\n",
    "\n",
    "\n",
    "Python 3 scripting for System administrators\n",
    "\n"
   ]
  },
  {
   "cell_type": "code",
   "execution_count": 1,
   "metadata": {},
   "outputs": [
    {
     "name": "stdout",
     "output_type": "stream",
     "text": [
      "First arg C:\\Users\\saran\\anaconda3\\lib\\site-packages\\ipykernel_launcher.py\n"
     ]
    }
   ],
   "source": [
    "import sys  # sys module is required for parsing arguments\n",
    "\n",
    "print(f\"First arg {sys.argv[0]}\")  # argv[0] prints the absolute path (script location) of the script where its stored in the environment"
   ]
  },
  {
   "cell_type": "code",
   "execution_count": 2,
   "metadata": {},
   "outputs": [
    {
     "name": "stdout",
     "output_type": "stream",
     "text": [
      "Positional arguments ['-f', 'C:\\\\Users\\\\saran\\\\AppData\\\\Roaming\\\\jupyter\\\\runtime\\\\kernel-51fd9300-0eb4-49e3-a0a5-70b6570aeb11.json']\n",
      "First arg -f\n"
     ]
    }
   ],
   "source": [
    "print(f\"Positional arguments {sys.argv[1:]}\")\n",
    "print(f\"First arg {sys.argv[1]}\")"
   ]
  },
  {
   "cell_type": "markdown",
   "metadata": {},
   "source": [
    "### Argparse is the high level abstraction of sys.argv with the error checking inbuilt\n",
    "\n",
    "Reference https://docs.python.org/3/library/argparse.html\n"
   ]
  },
  {
   "cell_type": "code",
   "execution_count": null,
   "metadata": {},
   "outputs": [],
   "source": [
    "import argparse \n",
    "\n",
    "# Build the parser\n",
    "parser = argparse.ArgumentParser()        # creating the parser object \n",
    "parser.add_argument('filename', help='this arg for the filename to read')\n",
    "\n",
    "# Parse the arguments\n",
    "args = parser.parse_args()\n",
    "print(args)\n",
    "\n",
    "\n",
    "# Carry out the scripts (Read the file, reverse the contents and print)\n",
    "\n",
    "\n"
   ]
  },
  {
   "cell_type": "markdown",
   "metadata": {},
   "source": [
    "C:\\Users\\saran\\PycharmProjects\\Python-Programming\\6_ArgParse-Module>python my-argparse.py somefakeargs\n",
    "Namespace(filename='somefakeargs')\n",
    "\n",
    "==== It also produces help documentation as follows: ====\n",
    "\n",
    "(base) C:\\Users\\saran\\PycharmProjects\\Python-Programming\\6_ArgParse-Module>python my-argparse.py\n",
    "usage: my-argparse.py [-h] filename\n",
    "my-argparse.py: error: the following arguments are required: filename\n",
    "\n",
    "==== When we print for --help then it produces automated help message as follows ====\n",
    "\n",
    "(base) C:\\Users\\saran\\PycharmProjects\\Python-Programming\\6_ArgParse-Module>python my-argparse.py --help\n",
    "usage: my-argparse.py [-h] filename\n",
    "\n",
    "positional arguments:\n",
    "  filename    this arg for the filename to read\n",
    "\n",
    "optional arguments:\n",
    "  -h, --help  show this help message and exit\n",
    "\n",
    "(base) C:\\Users\\saran\\PycharmProjects\\Python-Programming\\6_ArgParse-Module>\n",
    "\n",
    "\n"
   ]
  },
  {
   "cell_type": "code",
   "execution_count": null,
   "metadata": {},
   "outputs": [],
   "source": [
    "import argparse \n",
    "\n",
    "# Build the parser\n",
    "parser = argparse.ArgumentParser(description='for learning the argparse module')        # we can add a description for this script\n",
    "parser.add_argument('filename', help='this arg for the filename to read')\n",
    "parser.add_argument('--limit', '-l', type=int, help='the number of lines to read')\n",
    "\n",
    "# Parse the arguments\n",
    "args = parser.parse_args()\n",
    "print(args)\n",
    "\n",
    "\"\"\"\n",
    "Output as follows:\n",
    "\n",
    "> python my-argparse.py --help\n",
    "usage: my-argparse.py [-h] [--limit LIMIT] filename\n",
    "\n",
    "for learning the argparse module\n",
    "\n",
    "positional arguments:\n",
    "  filename              this arg for the filename to read\n",
    "\n",
    "optional arguments:\n",
    "  -h, --help            show this help message and exit\n",
    "  --limit LIMIT, -l LIMIT\n",
    "                        the number of lines to read\n",
    "\n",
    "\n",
    "\n",
    "> python my-argparse.py fakeargs\n",
    "Namespace(filename='fakeargs', limit=None)\n",
    "\n",
    "\"\"\""
   ]
  },
  {
   "cell_type": "code",
   "execution_count": null,
   "metadata": {},
   "outputs": [],
   "source": [
    "import argparse \n",
    "\n",
    "# Build the parser\n",
    "parser = argparse.ArgumentParser(description='for learning the argparse module')        # we can add a description for this script\n",
    "parser.add_argument('filename', help='this arg for the filename to read')  # If -- is not specified then its a positional argument\n",
    "parser.add_argument('--limit', '-l', type=int, help='the number of lines to read') # If -- is specified then its an optional argument\n",
    "parser.add_argument('--version', '-v', action='version', version='%(prog)s 1.0')\n",
    "\n",
    "# Parse the arguments\n",
    "args = parser.parse_args()\n",
    "print(args)\n",
    "\n",
    "\"\"\"\n",
    "> python my-argparse.py --help\n",
    "usage: my-argparse.py [-h] [--limit LIMIT] [--version] filename\n",
    "\n",
    "for learning the argparse module\n",
    "\n",
    "positional arguments:\n",
    "  filename              this arg for the filename to read\n",
    "\n",
    "optional arguments:\n",
    "  -h, --help            show this help message and exit\n",
    "  --limit LIMIT, -l LIMIT\n",
    "                        the number of lines to read\n",
    "  --version, -v         show program's version number and exit\n",
    "\n",
    "> python my-argparse.py fakeargs\n",
    "Namespace(filename='fakeargs', limit=None)\n",
    "\n",
    "> python my-argparse.py --version\n",
    "my-argparse.py 1.0\n",
    "\n",
    "> python my-argparse.py -v\n",
    "my-argparse.py 1.0\n",
    "\n",
    "\"\"\""
   ]
  },
  {
   "cell_type": "code",
   "execution_count": null,
   "metadata": {},
   "outputs": [],
   "source": [
    "import argparse \n",
    "\n",
    "# Build the parser\n",
    "parser = argparse.ArgumentParser(description='for learning the argparse module')        # we can add a description for this script\n",
    "parser.add_argument('filename', help='this arg for the filename to read')  # If -- is not specified then its a positional argument\n",
    "parser.add_argument('--limit', '-l', type=int, help='the number of lines to read') # If -- is specified then its an optional argument\n",
    "parser.add_argument('--version', '-v', action='version', version='%(prog)s 1.0')\n",
    "\n",
    "# Parse the arguments\n",
    "args = parser.parse_args()\n",
    "\n",
    "# Carry out the scripts (Read the file, reverse the contents and print)\n",
    "with open(args.filename) as f:   # getting the filename from filename argument and open the file\n",
    "    lines = f.readlines()        # reading all lines in the file\n",
    "    lines.reverse()              # reversing the order of the line contents such as last line becoming first line \n",
    "    \n",
    "    if args.limit:                  # If --limit argument is given then we are only reversing those lines\n",
    "        lines = lines[:args.limit]  \n",
    "    \n",
    "    for line in lines:\n",
    "        print(line.strip()[::-1])   # reversing the characters in each line and printing\n",
    "\n",
    "\n",
    "\"\"\"\n",
    "Output:\n",
    "\n",
    "Created a file called sampletext.txt with contents as Line1 contents then while running them\n",
    "\n",
    "> python my-argparse.py sampletext.txt\n",
    "stnetnoc 3 eniL\n",
    "stnetnoc 2 eniL\n",
    "stnetnoc 1 eniL\n",
    "\n",
    ">python my-argparse.py sampletext.txt --limit 2\n",
    "stnetnoc 3 eniL\n",
    "stnetnoc 2 eniL\n",
    "\n",
    ">python my-argparse.py sampletext.txt -l 2\n",
    "stnetnoc 3 eniL\n",
    "stnetnoc 2 eniL\n",
    "\n",
    "\"\"\""
   ]
  },
  {
   "cell_type": "code",
   "execution_count": null,
   "metadata": {},
   "outputs": [],
   "source": []
  }
 ],
 "metadata": {
  "kernelspec": {
   "display_name": "Python 3",
   "language": "python",
   "name": "python3"
  },
  "language_info": {
   "codemirror_mode": {
    "name": "ipython",
    "version": 3
   },
   "file_extension": ".py",
   "mimetype": "text/x-python",
   "name": "python",
   "nbconvert_exporter": "python",
   "pygments_lexer": "ipython3",
   "version": "3.8.5"
  }
 },
 "nbformat": 4,
 "nbformat_minor": 4
}
